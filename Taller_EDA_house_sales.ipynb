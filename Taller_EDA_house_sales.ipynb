{
 "cells": [
  {
   "cell_type": "markdown",
   "id": "a07882bc",
   "metadata": {},
   "source": [
    "# Step 1: Toolkits for EDA with Python"
   ]
  },
  {
   "cell_type": "code",
   "execution_count": null,
   "id": "b1eba0aa",
   "metadata": {},
   "outputs": [],
   "source": []
  },
  {
   "cell_type": "markdown",
   "id": "fbccd57f",
   "metadata": {},
   "source": [
    "# Step 2: Importing Data and Reading Dataset"
   ]
  },
  {
   "cell_type": "markdown",
   "id": "daaf44f3",
   "metadata": {},
   "source": [
    "# Step 3: Analyzing the Data"
   ]
  },
  {
   "cell_type": "markdown",
   "id": "f4807f01",
   "metadata": {},
   "source": [
    "# Step 4: Duplication and Missing Values Management"
   ]
  },
  {
   "cell_type": "markdown",
   "id": "2c9fe837",
   "metadata": {},
   "source": [
    "# Step 5: Data Reduction"
   ]
  },
  {
   "cell_type": "markdown",
   "id": "3002c24d",
   "metadata": {},
   "source": [
    "# Step 6: Feature Engineering"
   ]
  },
  {
   "cell_type": "markdown",
   "id": "6aac83f8",
   "metadata": {},
   "source": [
    "# Step 7: Creating Features"
   ]
  },
  {
   "cell_type": "markdown",
   "id": "6b04112c",
   "metadata": {},
   "source": [
    "# Step 8: Data Cleaning/Wrangling"
   ]
  },
  {
   "cell_type": "markdown",
   "id": "53df0fc1",
   "metadata": {},
   "source": [
    "# Step 9: EDA — Exploratory Data Analysis"
   ]
  },
  {
   "cell_type": "markdown",
   "id": "ba5b3329",
   "metadata": {},
   "source": [
    "# Step 10: Statistics Summary"
   ]
  },
  {
   "cell_type": "markdown",
   "id": "b4f8daed",
   "metadata": {},
   "source": [
    "# Step 11: EDA — Univariate Analysis"
   ]
  },
  {
   "cell_type": "markdown",
   "id": "06a337ee",
   "metadata": {},
   "source": [
    "# Step 12: Data Transformation"
   ]
  },
  {
   "cell_type": "markdown",
   "id": "fdf3bfc5",
   "metadata": {},
   "source": [
    "# Step 13: EDA — Bivariate Analysis"
   ]
  },
  {
   "cell_type": "markdown",
   "id": "a363f8bf",
   "metadata": {},
   "source": [
    "# Step 14: EDA — Multivariate Analysis"
   ]
  },
  {
   "cell_type": "markdown",
   "id": "8667ab9a",
   "metadata": {},
   "source": [
    "# Step 15: Observing Data, Insights, and Storytelling"
   ]
  }
 ],
 "metadata": {
  "kernelspec": {
   "display_name": "Python 3 (ipykernel)",
   "language": "python",
   "name": "python3"
  },
  "language_info": {
   "codemirror_mode": {
    "name": "ipython",
    "version": 3
   },
   "file_extension": ".py",
   "mimetype": "text/x-python",
   "name": "python",
   "nbconvert_exporter": "python",
   "pygments_lexer": "ipython3",
   "version": "3.10.9"
  }
 },
 "nbformat": 4,
 "nbformat_minor": 5
}
