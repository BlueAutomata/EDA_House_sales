{
 "cells": [
  {
   "cell_type": "markdown",
   "id": "a07882bc",
   "metadata": {},
   "source": [
    "# Step 1: Toolkits for EDA with Python"
   ]
  },
  {
   "cell_type": "markdown",
   "id": "4badabdf-12ff-4664-974b-f1a9ffb1efd3",
   "metadata": {},
   "source": [
    "## Cargar librerías"
   ]
  },
  {
   "cell_type": "code",
   "execution_count": 435,
   "id": "8a201038",
   "metadata": {},
   "outputs": [],
   "source": [
    "import seaborn as sns"
   ]
  },
  {
   "cell_type": "code",
   "execution_count": 436,
   "id": "0ec64694",
   "metadata": {},
   "outputs": [],
   "source": [
    "import pandas as pd"
   ]
  },
  {
   "cell_type": "code",
   "execution_count": 437,
   "id": "3c626a8f-52f8-467a-a18f-1b36688c3951",
   "metadata": {},
   "outputs": [],
   "source": [
    "import numpy as np"
   ]
  },
  {
   "cell_type": "code",
   "execution_count": 438,
   "id": "9d93cae9-784f-44d8-8710-04cb750e77d1",
   "metadata": {},
   "outputs": [],
   "source": [
    "import matplotlib.pyplot as plt"
   ]
  },
  {
   "cell_type": "code",
   "execution_count": 439,
   "id": "3a59e2cf-c194-452f-985c-fdf54560912f",
   "metadata": {},
   "outputs": [],
   "source": [
    "import seaborn as sns"
   ]
  },
  {
   "cell_type": "code",
   "execution_count": 440,
   "id": "71c5382f-2755-41a6-a052-c0873c13c264",
   "metadata": {},
   "outputs": [],
   "source": [
    "from sklearn import preprocessing, model_selection"
   ]
  },
  {
   "cell_type": "markdown",
   "id": "fbccd57f",
   "metadata": {},
   "source": [
    "# Step 2: Importing Data and Reading Dataset"
   ]
  },
  {
   "cell_type": "code",
   "execution_count": 441,
   "id": "b1eba0aa",
   "metadata": {},
   "outputs": [],
   "source": [
    "df = pd.read_csv(\"Data/House_sales.csv\", sep=\";\")"
   ]
  },
  {
   "cell_type": "code",
   "execution_count": 442,
   "id": "60248ddb-eed0-412e-8338-98d632c17cb7",
   "metadata": {},
   "outputs": [
    {
     "data": {
      "text/plain": [
       "(2919, 81)"
      ]
     },
     "execution_count": 442,
     "metadata": {},
     "output_type": "execute_result"
    }
   ],
   "source": [
    "df.shape # Para conocer el número de filas y columnas (f,c)"
   ]
  },
  {
   "cell_type": "code",
   "execution_count": 443,
   "id": "f32b6e36",
   "metadata": {},
   "outputs": [
    {
     "data": {
      "text/html": [
       "<div>\n",
       "<style scoped>\n",
       "    .dataframe tbody tr th:only-of-type {\n",
       "        vertical-align: middle;\n",
       "    }\n",
       "\n",
       "    .dataframe tbody tr th {\n",
       "        vertical-align: top;\n",
       "    }\n",
       "\n",
       "    .dataframe thead th {\n",
       "        text-align: right;\n",
       "    }\n",
       "</style>\n",
       "<table border=\"1\" class=\"dataframe\">\n",
       "  <thead>\n",
       "    <tr style=\"text-align: right;\">\n",
       "      <th></th>\n",
       "      <th>Id</th>\n",
       "      <th>MSSubClass</th>\n",
       "      <th>MSZoning</th>\n",
       "      <th>LotFrontage</th>\n",
       "      <th>LotArea</th>\n",
       "      <th>Street</th>\n",
       "      <th>Alley</th>\n",
       "      <th>LotShape</th>\n",
       "      <th>LandContour</th>\n",
       "      <th>Utilities</th>\n",
       "      <th>...</th>\n",
       "      <th>PoolArea</th>\n",
       "      <th>PoolQC</th>\n",
       "      <th>Fence</th>\n",
       "      <th>MiscFeature</th>\n",
       "      <th>MiscVal</th>\n",
       "      <th>MoSold</th>\n",
       "      <th>YrSold</th>\n",
       "      <th>SaleType</th>\n",
       "      <th>SaleCondition</th>\n",
       "      <th>SalePrice</th>\n",
       "    </tr>\n",
       "  </thead>\n",
       "  <tbody>\n",
       "    <tr>\n",
       "      <th>0</th>\n",
       "      <td>1</td>\n",
       "      <td>60</td>\n",
       "      <td>RL</td>\n",
       "      <td>65.0</td>\n",
       "      <td>8450</td>\n",
       "      <td>Pave</td>\n",
       "      <td>NaN</td>\n",
       "      <td>Reg</td>\n",
       "      <td>Lvl</td>\n",
       "      <td>AllPub</td>\n",
       "      <td>...</td>\n",
       "      <td>0</td>\n",
       "      <td>NaN</td>\n",
       "      <td>NaN</td>\n",
       "      <td>NaN</td>\n",
       "      <td>0</td>\n",
       "      <td>2</td>\n",
       "      <td>2008</td>\n",
       "      <td>WD</td>\n",
       "      <td>Normal</td>\n",
       "      <td>208500.0</td>\n",
       "    </tr>\n",
       "    <tr>\n",
       "      <th>1</th>\n",
       "      <td>2</td>\n",
       "      <td>20</td>\n",
       "      <td>RL</td>\n",
       "      <td>80.0</td>\n",
       "      <td>9600</td>\n",
       "      <td>Pave</td>\n",
       "      <td>NaN</td>\n",
       "      <td>Reg</td>\n",
       "      <td>Lvl</td>\n",
       "      <td>AllPub</td>\n",
       "      <td>...</td>\n",
       "      <td>0</td>\n",
       "      <td>NaN</td>\n",
       "      <td>NaN</td>\n",
       "      <td>NaN</td>\n",
       "      <td>0</td>\n",
       "      <td>5</td>\n",
       "      <td>2007</td>\n",
       "      <td>WD</td>\n",
       "      <td>Normal</td>\n",
       "      <td>181500.0</td>\n",
       "    </tr>\n",
       "    <tr>\n",
       "      <th>2</th>\n",
       "      <td>3</td>\n",
       "      <td>60</td>\n",
       "      <td>RL</td>\n",
       "      <td>68.0</td>\n",
       "      <td>11250</td>\n",
       "      <td>Pave</td>\n",
       "      <td>NaN</td>\n",
       "      <td>IR1</td>\n",
       "      <td>Lvl</td>\n",
       "      <td>AllPub</td>\n",
       "      <td>...</td>\n",
       "      <td>0</td>\n",
       "      <td>NaN</td>\n",
       "      <td>NaN</td>\n",
       "      <td>NaN</td>\n",
       "      <td>0</td>\n",
       "      <td>9</td>\n",
       "      <td>2008</td>\n",
       "      <td>WD</td>\n",
       "      <td>Normal</td>\n",
       "      <td>223500.0</td>\n",
       "    </tr>\n",
       "    <tr>\n",
       "      <th>3</th>\n",
       "      <td>4</td>\n",
       "      <td>70</td>\n",
       "      <td>RL</td>\n",
       "      <td>60.0</td>\n",
       "      <td>9550</td>\n",
       "      <td>Pave</td>\n",
       "      <td>NaN</td>\n",
       "      <td>IR1</td>\n",
       "      <td>Lvl</td>\n",
       "      <td>AllPub</td>\n",
       "      <td>...</td>\n",
       "      <td>0</td>\n",
       "      <td>NaN</td>\n",
       "      <td>NaN</td>\n",
       "      <td>NaN</td>\n",
       "      <td>0</td>\n",
       "      <td>2</td>\n",
       "      <td>2006</td>\n",
       "      <td>WD</td>\n",
       "      <td>Abnorml</td>\n",
       "      <td>140000.0</td>\n",
       "    </tr>\n",
       "    <tr>\n",
       "      <th>4</th>\n",
       "      <td>5</td>\n",
       "      <td>60</td>\n",
       "      <td>RL</td>\n",
       "      <td>84.0</td>\n",
       "      <td>14260</td>\n",
       "      <td>Pave</td>\n",
       "      <td>NaN</td>\n",
       "      <td>IR1</td>\n",
       "      <td>Lvl</td>\n",
       "      <td>AllPub</td>\n",
       "      <td>...</td>\n",
       "      <td>0</td>\n",
       "      <td>NaN</td>\n",
       "      <td>NaN</td>\n",
       "      <td>NaN</td>\n",
       "      <td>0</td>\n",
       "      <td>12</td>\n",
       "      <td>2008</td>\n",
       "      <td>WD</td>\n",
       "      <td>Normal</td>\n",
       "      <td>250000.0</td>\n",
       "    </tr>\n",
       "  </tbody>\n",
       "</table>\n",
       "<p>5 rows × 81 columns</p>\n",
       "</div>"
      ],
      "text/plain": [
       "   Id  MSSubClass MSZoning  LotFrontage  LotArea Street Alley LotShape  \\\n",
       "0   1          60       RL         65.0     8450   Pave   NaN      Reg   \n",
       "1   2          20       RL         80.0     9600   Pave   NaN      Reg   \n",
       "2   3          60       RL         68.0    11250   Pave   NaN      IR1   \n",
       "3   4          70       RL         60.0     9550   Pave   NaN      IR1   \n",
       "4   5          60       RL         84.0    14260   Pave   NaN      IR1   \n",
       "\n",
       "  LandContour Utilities  ... PoolArea PoolQC Fence MiscFeature MiscVal MoSold  \\\n",
       "0         Lvl    AllPub  ...        0    NaN   NaN         NaN       0      2   \n",
       "1         Lvl    AllPub  ...        0    NaN   NaN         NaN       0      5   \n",
       "2         Lvl    AllPub  ...        0    NaN   NaN         NaN       0      9   \n",
       "3         Lvl    AllPub  ...        0    NaN   NaN         NaN       0      2   \n",
       "4         Lvl    AllPub  ...        0    NaN   NaN         NaN       0     12   \n",
       "\n",
       "  YrSold  SaleType  SaleCondition  SalePrice  \n",
       "0   2008        WD         Normal   208500.0  \n",
       "1   2007        WD         Normal   181500.0  \n",
       "2   2008        WD         Normal   223500.0  \n",
       "3   2006        WD        Abnorml   140000.0  \n",
       "4   2008        WD         Normal   250000.0  \n",
       "\n",
       "[5 rows x 81 columns]"
      ]
     },
     "execution_count": 443,
     "metadata": {},
     "output_type": "execute_result"
    }
   ],
   "source": [
    "df.head() # Primeras 5 filas del dataset"
   ]
  },
  {
   "cell_type": "code",
   "execution_count": 444,
   "id": "d8260234",
   "metadata": {},
   "outputs": [
    {
     "data": {
      "text/html": [
       "<div>\n",
       "<style scoped>\n",
       "    .dataframe tbody tr th:only-of-type {\n",
       "        vertical-align: middle;\n",
       "    }\n",
       "\n",
       "    .dataframe tbody tr th {\n",
       "        vertical-align: top;\n",
       "    }\n",
       "\n",
       "    .dataframe thead th {\n",
       "        text-align: right;\n",
       "    }\n",
       "</style>\n",
       "<table border=\"1\" class=\"dataframe\">\n",
       "  <thead>\n",
       "    <tr style=\"text-align: right;\">\n",
       "      <th></th>\n",
       "      <th>Id</th>\n",
       "      <th>MSSubClass</th>\n",
       "      <th>MSZoning</th>\n",
       "      <th>LotFrontage</th>\n",
       "      <th>LotArea</th>\n",
       "      <th>Street</th>\n",
       "      <th>Alley</th>\n",
       "      <th>LotShape</th>\n",
       "      <th>LandContour</th>\n",
       "      <th>Utilities</th>\n",
       "      <th>...</th>\n",
       "      <th>PoolArea</th>\n",
       "      <th>PoolQC</th>\n",
       "      <th>Fence</th>\n",
       "      <th>MiscFeature</th>\n",
       "      <th>MiscVal</th>\n",
       "      <th>MoSold</th>\n",
       "      <th>YrSold</th>\n",
       "      <th>SaleType</th>\n",
       "      <th>SaleCondition</th>\n",
       "      <th>SalePrice</th>\n",
       "    </tr>\n",
       "  </thead>\n",
       "  <tbody>\n",
       "    <tr>\n",
       "      <th>2914</th>\n",
       "      <td>2915</td>\n",
       "      <td>160</td>\n",
       "      <td>RM</td>\n",
       "      <td>21.0</td>\n",
       "      <td>1936</td>\n",
       "      <td>Pave</td>\n",
       "      <td>NaN</td>\n",
       "      <td>Reg</td>\n",
       "      <td>Lvl</td>\n",
       "      <td>AllPub</td>\n",
       "      <td>...</td>\n",
       "      <td>0</td>\n",
       "      <td>NaN</td>\n",
       "      <td>NaN</td>\n",
       "      <td>NaN</td>\n",
       "      <td>0</td>\n",
       "      <td>6</td>\n",
       "      <td>2006</td>\n",
       "      <td>WD</td>\n",
       "      <td>Normal</td>\n",
       "      <td>NaN</td>\n",
       "    </tr>\n",
       "    <tr>\n",
       "      <th>2915</th>\n",
       "      <td>2916</td>\n",
       "      <td>160</td>\n",
       "      <td>RM</td>\n",
       "      <td>21.0</td>\n",
       "      <td>1894</td>\n",
       "      <td>Pave</td>\n",
       "      <td>NaN</td>\n",
       "      <td>Reg</td>\n",
       "      <td>Lvl</td>\n",
       "      <td>AllPub</td>\n",
       "      <td>...</td>\n",
       "      <td>0</td>\n",
       "      <td>NaN</td>\n",
       "      <td>NaN</td>\n",
       "      <td>NaN</td>\n",
       "      <td>0</td>\n",
       "      <td>4</td>\n",
       "      <td>2006</td>\n",
       "      <td>WD</td>\n",
       "      <td>Abnorml</td>\n",
       "      <td>NaN</td>\n",
       "    </tr>\n",
       "    <tr>\n",
       "      <th>2916</th>\n",
       "      <td>2917</td>\n",
       "      <td>20</td>\n",
       "      <td>RL</td>\n",
       "      <td>160.0</td>\n",
       "      <td>20000</td>\n",
       "      <td>Pave</td>\n",
       "      <td>NaN</td>\n",
       "      <td>Reg</td>\n",
       "      <td>Lvl</td>\n",
       "      <td>AllPub</td>\n",
       "      <td>...</td>\n",
       "      <td>0</td>\n",
       "      <td>NaN</td>\n",
       "      <td>NaN</td>\n",
       "      <td>NaN</td>\n",
       "      <td>0</td>\n",
       "      <td>9</td>\n",
       "      <td>2006</td>\n",
       "      <td>WD</td>\n",
       "      <td>Abnorml</td>\n",
       "      <td>NaN</td>\n",
       "    </tr>\n",
       "    <tr>\n",
       "      <th>2917</th>\n",
       "      <td>2918</td>\n",
       "      <td>85</td>\n",
       "      <td>RL</td>\n",
       "      <td>62.0</td>\n",
       "      <td>10441</td>\n",
       "      <td>Pave</td>\n",
       "      <td>NaN</td>\n",
       "      <td>Reg</td>\n",
       "      <td>Lvl</td>\n",
       "      <td>AllPub</td>\n",
       "      <td>...</td>\n",
       "      <td>0</td>\n",
       "      <td>NaN</td>\n",
       "      <td>MnPrv</td>\n",
       "      <td>Shed</td>\n",
       "      <td>700</td>\n",
       "      <td>7</td>\n",
       "      <td>2006</td>\n",
       "      <td>WD</td>\n",
       "      <td>Normal</td>\n",
       "      <td>NaN</td>\n",
       "    </tr>\n",
       "    <tr>\n",
       "      <th>2918</th>\n",
       "      <td>2919</td>\n",
       "      <td>60</td>\n",
       "      <td>RL</td>\n",
       "      <td>74.0</td>\n",
       "      <td>9627</td>\n",
       "      <td>Pave</td>\n",
       "      <td>NaN</td>\n",
       "      <td>Reg</td>\n",
       "      <td>Lvl</td>\n",
       "      <td>AllPub</td>\n",
       "      <td>...</td>\n",
       "      <td>0</td>\n",
       "      <td>NaN</td>\n",
       "      <td>NaN</td>\n",
       "      <td>NaN</td>\n",
       "      <td>0</td>\n",
       "      <td>11</td>\n",
       "      <td>2006</td>\n",
       "      <td>WD</td>\n",
       "      <td>Normal</td>\n",
       "      <td>NaN</td>\n",
       "    </tr>\n",
       "  </tbody>\n",
       "</table>\n",
       "<p>5 rows × 81 columns</p>\n",
       "</div>"
      ],
      "text/plain": [
       "        Id  MSSubClass MSZoning  LotFrontage  LotArea Street Alley LotShape  \\\n",
       "2914  2915         160       RM         21.0     1936   Pave   NaN      Reg   \n",
       "2915  2916         160       RM         21.0     1894   Pave   NaN      Reg   \n",
       "2916  2917          20       RL        160.0    20000   Pave   NaN      Reg   \n",
       "2917  2918          85       RL         62.0    10441   Pave   NaN      Reg   \n",
       "2918  2919          60       RL         74.0     9627   Pave   NaN      Reg   \n",
       "\n",
       "     LandContour Utilities  ... PoolArea PoolQC  Fence MiscFeature MiscVal  \\\n",
       "2914         Lvl    AllPub  ...        0    NaN    NaN         NaN       0   \n",
       "2915         Lvl    AllPub  ...        0    NaN    NaN         NaN       0   \n",
       "2916         Lvl    AllPub  ...        0    NaN    NaN         NaN       0   \n",
       "2917         Lvl    AllPub  ...        0    NaN  MnPrv        Shed     700   \n",
       "2918         Lvl    AllPub  ...        0    NaN    NaN         NaN       0   \n",
       "\n",
       "     MoSold YrSold  SaleType  SaleCondition  SalePrice  \n",
       "2914      6   2006        WD         Normal        NaN  \n",
       "2915      4   2006        WD        Abnorml        NaN  \n",
       "2916      9   2006        WD        Abnorml        NaN  \n",
       "2917      7   2006        WD         Normal        NaN  \n",
       "2918     11   2006        WD         Normal        NaN  \n",
       "\n",
       "[5 rows x 81 columns]"
      ]
     },
     "execution_count": 444,
     "metadata": {},
     "output_type": "execute_result"
    }
   ],
   "source": [
    "df.tail() # Últimas 5 filas del dataset"
   ]
  },
  {
   "cell_type": "markdown",
   "id": "daaf44f3",
   "metadata": {},
   "source": [
    "# Step 3: Analyzing the Data"
   ]
  },
  {
   "cell_type": "code",
   "execution_count": 445,
   "id": "cdc749f0",
   "metadata": {},
   "outputs": [
    {
     "name": "stdout",
     "output_type": "stream",
     "text": [
      "<class 'pandas.core.frame.DataFrame'>\n",
      "RangeIndex: 2919 entries, 0 to 2918\n",
      "Data columns (total 81 columns):\n",
      " #   Column         Non-Null Count  Dtype  \n",
      "---  ------         --------------  -----  \n",
      " 0   Id             2919 non-null   int64  \n",
      " 1   MSSubClass     2919 non-null   int64  \n",
      " 2   MSZoning       2915 non-null   object \n",
      " 3   LotFrontage    2433 non-null   float64\n",
      " 4   LotArea        2919 non-null   int64  \n",
      " 5   Street         2919 non-null   object \n",
      " 6   Alley          198 non-null    object \n",
      " 7   LotShape       2919 non-null   object \n",
      " 8   LandContour    2919 non-null   object \n",
      " 9   Utilities      2917 non-null   object \n",
      " 10  LotConfig      2919 non-null   object \n",
      " 11  LandSlope      2919 non-null   object \n",
      " 12  Neighborhood   2919 non-null   object \n",
      " 13  Condition1     2919 non-null   object \n",
      " 14  Condition2     2919 non-null   object \n",
      " 15  BldgType       2919 non-null   object \n",
      " 16  HouseStyle     2919 non-null   object \n",
      " 17  OverallQual    2919 non-null   int64  \n",
      " 18  OverallCond    2919 non-null   int64  \n",
      " 19  YearBuilt      2919 non-null   int64  \n",
      " 20  YearRemodAdd   2919 non-null   int64  \n",
      " 21  RoofStyle      2919 non-null   object \n",
      " 22  RoofMatl       2919 non-null   object \n",
      " 23  Exterior1st    2918 non-null   object \n",
      " 24  Exterior2nd    2918 non-null   object \n",
      " 25  MasVnrType     2895 non-null   object \n",
      " 26  MasVnrArea     2896 non-null   float64\n",
      " 27  ExterQual      2919 non-null   object \n",
      " 28  ExterCond      2919 non-null   object \n",
      " 29  Foundation     2919 non-null   object \n",
      " 30  BsmtQual       2838 non-null   object \n",
      " 31  BsmtCond       2837 non-null   object \n",
      " 32  BsmtExposure   2837 non-null   object \n",
      " 33  BsmtFinType1   2840 non-null   object \n",
      " 34  BsmtFinSF1     2918 non-null   float64\n",
      " 35  BsmtFinType2   2839 non-null   object \n",
      " 36  BsmtFinSF2     2918 non-null   float64\n",
      " 37  BsmtUnfSF      2918 non-null   float64\n",
      " 38  TotalBsmtSF    2918 non-null   float64\n",
      " 39  Heating        2919 non-null   object \n",
      " 40  HeatingQC      2919 non-null   object \n",
      " 41  CentralAir     2919 non-null   object \n",
      " 42  Electrical     2918 non-null   object \n",
      " 43  1stFlrSF       2919 non-null   int64  \n",
      " 44  2ndFlrSF       2919 non-null   int64  \n",
      " 45  LowQualFinSF   2919 non-null   int64  \n",
      " 46  GrLivArea      2919 non-null   int64  \n",
      " 47  BsmtFullBath   2917 non-null   float64\n",
      " 48  BsmtHalfBath   2917 non-null   float64\n",
      " 49  FullBath       2919 non-null   int64  \n",
      " 50  HalfBath       2919 non-null   int64  \n",
      " 51  BedroomAbvGr   2919 non-null   int64  \n",
      " 52  KitchenAbvGr   2919 non-null   int64  \n",
      " 53  KitchenQual    2918 non-null   object \n",
      " 54  TotRmsAbvGrd   2919 non-null   int64  \n",
      " 55  Functional     2917 non-null   object \n",
      " 56  Fireplaces     2919 non-null   int64  \n",
      " 57  FireplaceQu    1499 non-null   object \n",
      " 58  GarageType     2762 non-null   object \n",
      " 59  GarageYrBlt    2760 non-null   float64\n",
      " 60  GarageFinish   2760 non-null   object \n",
      " 61  GarageCars     2918 non-null   float64\n",
      " 62  GarageArea     2918 non-null   float64\n",
      " 63  GarageQual     2760 non-null   object \n",
      " 64  GarageCond     2760 non-null   object \n",
      " 65  PavedDrive     2919 non-null   object \n",
      " 66  WoodDeckSF     2919 non-null   int64  \n",
      " 67  OpenPorchSF    2919 non-null   int64  \n",
      " 68  EnclosedPorch  2919 non-null   int64  \n",
      " 69  3SsnPorch      2919 non-null   int64  \n",
      " 70  ScreenPorch    2919 non-null   int64  \n",
      " 71  PoolArea       2919 non-null   int64  \n",
      " 72  PoolQC         10 non-null     object \n",
      " 73  Fence          571 non-null    object \n",
      " 74  MiscFeature    105 non-null    object \n",
      " 75  MiscVal        2919 non-null   int64  \n",
      " 76  MoSold         2919 non-null   int64  \n",
      " 77  YrSold         2919 non-null   int64  \n",
      " 78  SaleType       2918 non-null   object \n",
      " 79  SaleCondition  2919 non-null   object \n",
      " 80  SalePrice      1460 non-null   float64\n",
      "dtypes: float64(12), int64(26), object(43)\n",
      "memory usage: 1.8+ MB\n"
     ]
    }
   ],
   "source": [
    "df.info() # muestra el tipo de datos de cada columna y si hay valores nulos"
   ]
  },
  {
   "cell_type": "code",
   "execution_count": 446,
   "id": "8b9c3f7b-2147-4722-8cb2-f0be45f4e488",
   "metadata": {},
   "outputs": [
    {
     "data": {
      "text/plain": [
       "Id                 int64\n",
       "MSSubClass         int64\n",
       "MSZoning          object\n",
       "LotFrontage      float64\n",
       "LotArea            int64\n",
       "                  ...   \n",
       "MoSold             int64\n",
       "YrSold             int64\n",
       "SaleType          object\n",
       "SaleCondition     object\n",
       "SalePrice        float64\n",
       "Length: 81, dtype: object"
      ]
     },
     "execution_count": 446,
     "metadata": {},
     "output_type": "execute_result"
    }
   ],
   "source": [
    "df.dtypes"
   ]
  },
  {
   "cell_type": "code",
   "execution_count": 447,
   "id": "4e531f6a-3ca0-478c-9eb1-4e4e0fc7dbf5",
   "metadata": {},
   "outputs": [
    {
     "name": "stdout",
     "output_type": "stream",
     "text": [
      "<class 'pandas.core.frame.DataFrame'>\n",
      "RangeIndex: 2919 entries, 0 to 2918\n",
      "Data columns (total 38 columns):\n",
      " #   Column         Non-Null Count  Dtype  \n",
      "---  ------         --------------  -----  \n",
      " 0   Id             2919 non-null   int64  \n",
      " 1   MSSubClass     2919 non-null   int64  \n",
      " 2   LotFrontage    2433 non-null   float64\n",
      " 3   LotArea        2919 non-null   int64  \n",
      " 4   OverallQual    2919 non-null   int64  \n",
      " 5   OverallCond    2919 non-null   int64  \n",
      " 6   YearBuilt      2919 non-null   int64  \n",
      " 7   YearRemodAdd   2919 non-null   int64  \n",
      " 8   MasVnrArea     2896 non-null   float64\n",
      " 9   BsmtFinSF1     2918 non-null   float64\n",
      " 10  BsmtFinSF2     2918 non-null   float64\n",
      " 11  BsmtUnfSF      2918 non-null   float64\n",
      " 12  TotalBsmtSF    2918 non-null   float64\n",
      " 13  1stFlrSF       2919 non-null   int64  \n",
      " 14  2ndFlrSF       2919 non-null   int64  \n",
      " 15  LowQualFinSF   2919 non-null   int64  \n",
      " 16  GrLivArea      2919 non-null   int64  \n",
      " 17  BsmtFullBath   2917 non-null   float64\n",
      " 18  BsmtHalfBath   2917 non-null   float64\n",
      " 19  FullBath       2919 non-null   int64  \n",
      " 20  HalfBath       2919 non-null   int64  \n",
      " 21  BedroomAbvGr   2919 non-null   int64  \n",
      " 22  KitchenAbvGr   2919 non-null   int64  \n",
      " 23  TotRmsAbvGrd   2919 non-null   int64  \n",
      " 24  Fireplaces     2919 non-null   int64  \n",
      " 25  GarageYrBlt    2760 non-null   float64\n",
      " 26  GarageCars     2918 non-null   float64\n",
      " 27  GarageArea     2918 non-null   float64\n",
      " 28  WoodDeckSF     2919 non-null   int64  \n",
      " 29  OpenPorchSF    2919 non-null   int64  \n",
      " 30  EnclosedPorch  2919 non-null   int64  \n",
      " 31  3SsnPorch      2919 non-null   int64  \n",
      " 32  ScreenPorch    2919 non-null   int64  \n",
      " 33  PoolArea       2919 non-null   int64  \n",
      " 34  MiscVal        2919 non-null   int64  \n",
      " 35  MoSold         2919 non-null   int64  \n",
      " 36  YrSold         2919 non-null   int64  \n",
      " 37  SalePrice      1460 non-null   float64\n",
      "dtypes: float64(12), int64(26)\n",
      "memory usage: 866.7 KB\n"
     ]
    }
   ],
   "source": [
    "# Columnas con valores numéricos\n",
    "df.select_dtypes(include='number').info()"
   ]
  },
  {
   "cell_type": "code",
   "execution_count": 448,
   "id": "d44d9958-f922-4c2d-97af-597736fa34a3",
   "metadata": {},
   "outputs": [
    {
     "data": {
      "text/html": [
       "<div>\n",
       "<style scoped>\n",
       "    .dataframe tbody tr th:only-of-type {\n",
       "        vertical-align: middle;\n",
       "    }\n",
       "\n",
       "    .dataframe tbody tr th {\n",
       "        vertical-align: top;\n",
       "    }\n",
       "\n",
       "    .dataframe thead th {\n",
       "        text-align: right;\n",
       "    }\n",
       "</style>\n",
       "<table border=\"1\" class=\"dataframe\">\n",
       "  <thead>\n",
       "    <tr style=\"text-align: right;\">\n",
       "      <th></th>\n",
       "      <th>Id</th>\n",
       "      <th>MSSubClass</th>\n",
       "      <th>LotFrontage</th>\n",
       "      <th>LotArea</th>\n",
       "      <th>OverallQual</th>\n",
       "      <th>OverallCond</th>\n",
       "      <th>YearBuilt</th>\n",
       "      <th>YearRemodAdd</th>\n",
       "      <th>MasVnrArea</th>\n",
       "      <th>BsmtFinSF1</th>\n",
       "      <th>...</th>\n",
       "      <th>WoodDeckSF</th>\n",
       "      <th>OpenPorchSF</th>\n",
       "      <th>EnclosedPorch</th>\n",
       "      <th>3SsnPorch</th>\n",
       "      <th>ScreenPorch</th>\n",
       "      <th>PoolArea</th>\n",
       "      <th>MiscVal</th>\n",
       "      <th>MoSold</th>\n",
       "      <th>YrSold</th>\n",
       "      <th>SalePrice</th>\n",
       "    </tr>\n",
       "  </thead>\n",
       "  <tbody>\n",
       "    <tr>\n",
       "      <th>count</th>\n",
       "      <td>2919.000000</td>\n",
       "      <td>2919.000000</td>\n",
       "      <td>2433.000000</td>\n",
       "      <td>2919.000000</td>\n",
       "      <td>2919.000000</td>\n",
       "      <td>2919.000000</td>\n",
       "      <td>2919.000000</td>\n",
       "      <td>2919.000000</td>\n",
       "      <td>2896.000000</td>\n",
       "      <td>2918.000000</td>\n",
       "      <td>...</td>\n",
       "      <td>2919.000000</td>\n",
       "      <td>2919.000000</td>\n",
       "      <td>2919.000000</td>\n",
       "      <td>2919.000000</td>\n",
       "      <td>2919.000000</td>\n",
       "      <td>2919.000000</td>\n",
       "      <td>2919.000000</td>\n",
       "      <td>2919.000000</td>\n",
       "      <td>2919.000000</td>\n",
       "      <td>1460.000000</td>\n",
       "    </tr>\n",
       "    <tr>\n",
       "      <th>mean</th>\n",
       "      <td>1460.000000</td>\n",
       "      <td>57.137718</td>\n",
       "      <td>69.305795</td>\n",
       "      <td>10168.114080</td>\n",
       "      <td>6.089072</td>\n",
       "      <td>5.564577</td>\n",
       "      <td>1971.312778</td>\n",
       "      <td>1984.264474</td>\n",
       "      <td>102.201312</td>\n",
       "      <td>441.423235</td>\n",
       "      <td>...</td>\n",
       "      <td>93.709832</td>\n",
       "      <td>47.486811</td>\n",
       "      <td>23.098321</td>\n",
       "      <td>2.602261</td>\n",
       "      <td>16.062350</td>\n",
       "      <td>2.251799</td>\n",
       "      <td>50.825968</td>\n",
       "      <td>6.213087</td>\n",
       "      <td>2007.792737</td>\n",
       "      <td>180921.195890</td>\n",
       "    </tr>\n",
       "    <tr>\n",
       "      <th>std</th>\n",
       "      <td>842.787043</td>\n",
       "      <td>42.517628</td>\n",
       "      <td>23.344905</td>\n",
       "      <td>7886.996359</td>\n",
       "      <td>1.409947</td>\n",
       "      <td>1.113131</td>\n",
       "      <td>30.291442</td>\n",
       "      <td>20.894344</td>\n",
       "      <td>179.334253</td>\n",
       "      <td>455.610826</td>\n",
       "      <td>...</td>\n",
       "      <td>126.526589</td>\n",
       "      <td>67.575493</td>\n",
       "      <td>64.244246</td>\n",
       "      <td>25.188169</td>\n",
       "      <td>56.184365</td>\n",
       "      <td>35.663946</td>\n",
       "      <td>567.402211</td>\n",
       "      <td>2.714762</td>\n",
       "      <td>1.314964</td>\n",
       "      <td>79442.502883</td>\n",
       "    </tr>\n",
       "    <tr>\n",
       "      <th>min</th>\n",
       "      <td>1.000000</td>\n",
       "      <td>20.000000</td>\n",
       "      <td>21.000000</td>\n",
       "      <td>1300.000000</td>\n",
       "      <td>1.000000</td>\n",
       "      <td>1.000000</td>\n",
       "      <td>1872.000000</td>\n",
       "      <td>1950.000000</td>\n",
       "      <td>0.000000</td>\n",
       "      <td>0.000000</td>\n",
       "      <td>...</td>\n",
       "      <td>0.000000</td>\n",
       "      <td>0.000000</td>\n",
       "      <td>0.000000</td>\n",
       "      <td>0.000000</td>\n",
       "      <td>0.000000</td>\n",
       "      <td>0.000000</td>\n",
       "      <td>0.000000</td>\n",
       "      <td>1.000000</td>\n",
       "      <td>2006.000000</td>\n",
       "      <td>34900.000000</td>\n",
       "    </tr>\n",
       "    <tr>\n",
       "      <th>25%</th>\n",
       "      <td>730.500000</td>\n",
       "      <td>20.000000</td>\n",
       "      <td>59.000000</td>\n",
       "      <td>7478.000000</td>\n",
       "      <td>5.000000</td>\n",
       "      <td>5.000000</td>\n",
       "      <td>1953.500000</td>\n",
       "      <td>1965.000000</td>\n",
       "      <td>0.000000</td>\n",
       "      <td>0.000000</td>\n",
       "      <td>...</td>\n",
       "      <td>0.000000</td>\n",
       "      <td>0.000000</td>\n",
       "      <td>0.000000</td>\n",
       "      <td>0.000000</td>\n",
       "      <td>0.000000</td>\n",
       "      <td>0.000000</td>\n",
       "      <td>0.000000</td>\n",
       "      <td>4.000000</td>\n",
       "      <td>2007.000000</td>\n",
       "      <td>129975.000000</td>\n",
       "    </tr>\n",
       "    <tr>\n",
       "      <th>50%</th>\n",
       "      <td>1460.000000</td>\n",
       "      <td>50.000000</td>\n",
       "      <td>68.000000</td>\n",
       "      <td>9453.000000</td>\n",
       "      <td>6.000000</td>\n",
       "      <td>5.000000</td>\n",
       "      <td>1973.000000</td>\n",
       "      <td>1993.000000</td>\n",
       "      <td>0.000000</td>\n",
       "      <td>368.500000</td>\n",
       "      <td>...</td>\n",
       "      <td>0.000000</td>\n",
       "      <td>26.000000</td>\n",
       "      <td>0.000000</td>\n",
       "      <td>0.000000</td>\n",
       "      <td>0.000000</td>\n",
       "      <td>0.000000</td>\n",
       "      <td>0.000000</td>\n",
       "      <td>6.000000</td>\n",
       "      <td>2008.000000</td>\n",
       "      <td>163000.000000</td>\n",
       "    </tr>\n",
       "    <tr>\n",
       "      <th>75%</th>\n",
       "      <td>2189.500000</td>\n",
       "      <td>70.000000</td>\n",
       "      <td>80.000000</td>\n",
       "      <td>11570.000000</td>\n",
       "      <td>7.000000</td>\n",
       "      <td>6.000000</td>\n",
       "      <td>2001.000000</td>\n",
       "      <td>2004.000000</td>\n",
       "      <td>164.000000</td>\n",
       "      <td>733.000000</td>\n",
       "      <td>...</td>\n",
       "      <td>168.000000</td>\n",
       "      <td>70.000000</td>\n",
       "      <td>0.000000</td>\n",
       "      <td>0.000000</td>\n",
       "      <td>0.000000</td>\n",
       "      <td>0.000000</td>\n",
       "      <td>0.000000</td>\n",
       "      <td>8.000000</td>\n",
       "      <td>2009.000000</td>\n",
       "      <td>214000.000000</td>\n",
       "    </tr>\n",
       "    <tr>\n",
       "      <th>max</th>\n",
       "      <td>2919.000000</td>\n",
       "      <td>190.000000</td>\n",
       "      <td>313.000000</td>\n",
       "      <td>215245.000000</td>\n",
       "      <td>10.000000</td>\n",
       "      <td>9.000000</td>\n",
       "      <td>2010.000000</td>\n",
       "      <td>2010.000000</td>\n",
       "      <td>1600.000000</td>\n",
       "      <td>5644.000000</td>\n",
       "      <td>...</td>\n",
       "      <td>1424.000000</td>\n",
       "      <td>742.000000</td>\n",
       "      <td>1012.000000</td>\n",
       "      <td>508.000000</td>\n",
       "      <td>576.000000</td>\n",
       "      <td>800.000000</td>\n",
       "      <td>17000.000000</td>\n",
       "      <td>12.000000</td>\n",
       "      <td>2010.000000</td>\n",
       "      <td>755000.000000</td>\n",
       "    </tr>\n",
       "  </tbody>\n",
       "</table>\n",
       "<p>8 rows × 38 columns</p>\n",
       "</div>"
      ],
      "text/plain": [
       "                Id   MSSubClass  LotFrontage        LotArea  OverallQual  \\\n",
       "count  2919.000000  2919.000000  2433.000000    2919.000000  2919.000000   \n",
       "mean   1460.000000    57.137718    69.305795   10168.114080     6.089072   \n",
       "std     842.787043    42.517628    23.344905    7886.996359     1.409947   \n",
       "min       1.000000    20.000000    21.000000    1300.000000     1.000000   \n",
       "25%     730.500000    20.000000    59.000000    7478.000000     5.000000   \n",
       "50%    1460.000000    50.000000    68.000000    9453.000000     6.000000   \n",
       "75%    2189.500000    70.000000    80.000000   11570.000000     7.000000   \n",
       "max    2919.000000   190.000000   313.000000  215245.000000    10.000000   \n",
       "\n",
       "       OverallCond    YearBuilt  YearRemodAdd   MasVnrArea   BsmtFinSF1  ...  \\\n",
       "count  2919.000000  2919.000000   2919.000000  2896.000000  2918.000000  ...   \n",
       "mean      5.564577  1971.312778   1984.264474   102.201312   441.423235  ...   \n",
       "std       1.113131    30.291442     20.894344   179.334253   455.610826  ...   \n",
       "min       1.000000  1872.000000   1950.000000     0.000000     0.000000  ...   \n",
       "25%       5.000000  1953.500000   1965.000000     0.000000     0.000000  ...   \n",
       "50%       5.000000  1973.000000   1993.000000     0.000000   368.500000  ...   \n",
       "75%       6.000000  2001.000000   2004.000000   164.000000   733.000000  ...   \n",
       "max       9.000000  2010.000000   2010.000000  1600.000000  5644.000000  ...   \n",
       "\n",
       "        WoodDeckSF  OpenPorchSF  EnclosedPorch    3SsnPorch  ScreenPorch  \\\n",
       "count  2919.000000  2919.000000    2919.000000  2919.000000  2919.000000   \n",
       "mean     93.709832    47.486811      23.098321     2.602261    16.062350   \n",
       "std     126.526589    67.575493      64.244246    25.188169    56.184365   \n",
       "min       0.000000     0.000000       0.000000     0.000000     0.000000   \n",
       "25%       0.000000     0.000000       0.000000     0.000000     0.000000   \n",
       "50%       0.000000    26.000000       0.000000     0.000000     0.000000   \n",
       "75%     168.000000    70.000000       0.000000     0.000000     0.000000   \n",
       "max    1424.000000   742.000000    1012.000000   508.000000   576.000000   \n",
       "\n",
       "          PoolArea       MiscVal       MoSold       YrSold      SalePrice  \n",
       "count  2919.000000   2919.000000  2919.000000  2919.000000    1460.000000  \n",
       "mean      2.251799     50.825968     6.213087  2007.792737  180921.195890  \n",
       "std      35.663946    567.402211     2.714762     1.314964   79442.502883  \n",
       "min       0.000000      0.000000     1.000000  2006.000000   34900.000000  \n",
       "25%       0.000000      0.000000     4.000000  2007.000000  129975.000000  \n",
       "50%       0.000000      0.000000     6.000000  2008.000000  163000.000000  \n",
       "75%       0.000000      0.000000     8.000000  2009.000000  214000.000000  \n",
       "max     800.000000  17000.000000    12.000000  2010.000000  755000.000000  \n",
       "\n",
       "[8 rows x 38 columns]"
      ]
     },
     "execution_count": 448,
     "metadata": {},
     "output_type": "execute_result"
    }
   ],
   "source": [
    "# Resumen estadístico de las columnas numéricas.\n",
    "df.describe()"
   ]
  },
  {
   "cell_type": "code",
   "execution_count": null,
   "id": "dec001d4-78d8-41a4-b5dc-b4ad776daa74",
   "metadata": {},
   "outputs": [],
   "source": []
  },
  {
   "cell_type": "code",
   "execution_count": null,
   "id": "0c30f916-223c-468d-bb8c-61ec4012ed97",
   "metadata": {},
   "outputs": [],
   "source": []
  },
  {
   "cell_type": "code",
   "execution_count": null,
   "id": "8c6aa0ef-aed8-4747-a149-18ff58c3339f",
   "metadata": {},
   "outputs": [],
   "source": []
  },
  {
   "cell_type": "code",
   "execution_count": null,
   "id": "9928c2cf-9692-480b-9577-63d4ba4c8981",
   "metadata": {},
   "outputs": [],
   "source": []
  },
  {
   "cell_type": "markdown",
   "id": "f4807f01",
   "metadata": {},
   "source": [
    "# Paso 4: Gestión de duplicaciones y valores faltantes "
   ]
  },
  {
   "cell_type": "markdown",
   "id": "ebda5fd3",
   "metadata": {},
   "source": [
    "### 4.1 Manejo de duplicaciones"
   ]
  },
  {
   "cell_type": "code",
   "execution_count": 449,
   "id": "203afa6f-3016-4808-a4f1-196169d8c173",
   "metadata": {},
   "outputs": [],
   "source": [
    "duplicates = df.duplicated()"
   ]
  },
  {
   "cell_type": "code",
   "execution_count": 450,
   "id": "74929012-975b-4f75-a74e-7ac56ece6cd2",
   "metadata": {},
   "outputs": [
    {
     "data": {
      "text/plain": [
       "False    2919\n",
       "dtype: int64"
      ]
     },
     "execution_count": 450,
     "metadata": {},
     "output_type": "execute_result"
    }
   ],
   "source": [
    "duplicates.value_counts()"
   ]
  },
  {
   "cell_type": "code",
   "execution_count": 451,
   "id": "582619fb",
   "metadata": {},
   "outputs": [],
   "source": [
    "df = df.drop_duplicates()"
   ]
  },
  {
   "cell_type": "markdown",
   "id": "86f70f4f",
   "metadata": {},
   "source": [
    "### 4.2 Manejo de valores faltantes"
   ]
  },
  {
   "cell_type": "markdown",
   "id": "e6611a82",
   "metadata": {},
   "source": [
    "#### 4.2.1 Identifcar las columnas con datos faltantes"
   ]
  },
  {
   "cell_type": "code",
   "execution_count": 452,
   "id": "2cb2ccf1",
   "metadata": {},
   "outputs": [],
   "source": [
    "missing_data = df.isnull().sum()[df.isnull().sum() > 0]"
   ]
  },
  {
   "cell_type": "code",
   "execution_count": 453,
   "id": "bad8f58c",
   "metadata": {},
   "outputs": [
    {
     "data": {
      "text/plain": [
       "MSZoning           4\n",
       "LotFrontage      486\n",
       "Alley           2721\n",
       "Utilities          2\n",
       "Exterior1st        1\n",
       "Exterior2nd        1\n",
       "MasVnrType        24\n",
       "MasVnrArea        23\n",
       "BsmtQual          81\n",
       "BsmtCond          82\n",
       "BsmtExposure      82\n",
       "BsmtFinType1      79\n",
       "BsmtFinSF1         1\n",
       "BsmtFinType2      80\n",
       "BsmtFinSF2         1\n",
       "BsmtUnfSF          1\n",
       "TotalBsmtSF        1\n",
       "Electrical         1\n",
       "BsmtFullBath       2\n",
       "BsmtHalfBath       2\n",
       "KitchenQual        1\n",
       "Functional         2\n",
       "FireplaceQu     1420\n",
       "GarageType       157\n",
       "GarageYrBlt      159\n",
       "GarageFinish     159\n",
       "GarageCars         1\n",
       "GarageArea         1\n",
       "GarageQual       159\n",
       "GarageCond       159\n",
       "PoolQC          2909\n",
       "Fence           2348\n",
       "MiscFeature     2814\n",
       "SaleType           1\n",
       "SalePrice       1459\n",
       "dtype: int64"
      ]
     },
     "execution_count": 453,
     "metadata": {},
     "output_type": "execute_result"
    }
   ],
   "source": [
    "missing_data"
   ]
  },
  {
   "cell_type": "code",
   "execution_count": 454,
   "id": "e316387b",
   "metadata": {},
   "outputs": [
    {
     "data": {
      "image/png": "[encoded data removed]",
      "text/plain": [
       "<Figure size 1000x600 with 1 Axes>"
      ]
     },
     "metadata": {},
     "output_type": "display_data"
    }
   ],
   "source": [
    "# Calculate the count of missing values for each column\n",
    "missing_counts = df.isnull().sum()\n",
    "\n",
    "# Filter to keep only columns with missing values\n",
    "missing_counts = missing_counts[missing_counts > 0]\n",
    "\n",
    "# Create a bar plot for the frequency of missing values\n",
    "plt.figure(figsize=(10, 6))\n",
    "sns.barplot(x=missing_counts.index, y=missing_counts.values, palette=\"viridis\")\n",
    "plt.xticks(rotation=90)\n",
    "plt.ylabel('Frequency of Missing Values')\n",
    "plt.title('Gráfico de Frecuencia de Valores Faltantes (Solo Columnas con Datos Faltantes)')\n",
    "plt.show()"
   ]
  },
  {
   "cell_type": "code",
   "execution_count": 455,
   "id": "32bca8ae",
   "metadata": {},
   "outputs": [
    {
     "data": {
      "image/png": "[encoded data removed]",
      "text/plain": [
       "<Figure size 1000x600 with 1 Axes>"
      ]
     },
     "metadata": {},
     "output_type": "display_data"
    }
   ],
   "source": [
    "# Calculate percentage of missing and non-missing values\n",
    "missing_percentage = df.isnull().mean() * 100\n",
    "non_missing_percentage = 100 - missing_percentage\n",
    "\n",
    "# Filter columns with missing values\n",
    "missing_columns = missing_percentage[missing_percentage > 0].index\n",
    "\n",
    "# Create a DataFrame for the plot\n",
    "missing_data = pd.DataFrame({\n",
    "    'Missing': missing_percentage[missing_columns],\n",
    "    'Non-missing': non_missing_percentage[missing_columns]\n",
    "}, index=missing_columns)\n",
    "\n",
    "# Plot the stacked bar plot for columns with missing values\n",
    "missing_data.plot(kind='bar', stacked=True, figsize=(10, 6), color=['#FF9999', '#66B3FF'])\n",
    "plt.xticks(rotation=90)\n",
    "plt.ylabel('Percentage')\n",
    "plt.title('Valores Faltantes vs No Faltantes')\n",
    "plt.show()"
   ]
  },
  {
   "cell_type": "code",
   "execution_count": 456,
   "id": "d238ebec",
   "metadata": {},
   "outputs": [],
   "source": [
    "df[\"MSZoning\"] = df['MSZoning'].mode()[0]"
   ]
  },
  {
   "cell_type": "code",
   "execution_count": 457,
   "id": "171c0cf1",
   "metadata": {},
   "outputs": [],
   "source": [
    "df[\"LotFrontage\"] = df['LotFrontage'].median()"
   ]
  },
  {
   "cell_type": "code",
   "execution_count": 458,
   "id": "56271788",
   "metadata": {},
   "outputs": [],
   "source": [
    "df[\"Utilities\"] = df['Utilities'].mode()[0]"
   ]
  },
  {
   "cell_type": "code",
   "execution_count": 459,
   "id": "ce7ab65c",
   "metadata": {},
   "outputs": [],
   "source": [
    "df[\"Exterior1st\"] = df[\"Exterior1st\"].mode()[0]"
   ]
  },
  {
   "cell_type": "code",
   "execution_count": 460,
   "id": "f3d6e07c",
   "metadata": {},
   "outputs": [],
   "source": [
    "df[\"Exterior2nd\"] = df[\"Exterior2nd\"].mode()[0]"
   ]
  },
  {
   "cell_type": "code",
   "execution_count": 461,
   "id": "2158f5c9",
   "metadata": {},
   "outputs": [],
   "source": [
    "df[\"MasVnrType\"] = df[\"MasVnrType\"].mode()[0]"
   ]
  },
  {
   "cell_type": "code",
   "execution_count": 462,
   "id": "f5464b94",
   "metadata": {},
   "outputs": [],
   "source": [
    "df[\"MasVnrArea\"] = df[\"MasVnrArea\"].median()"
   ]
  },
  {
   "cell_type": "code",
   "execution_count": 463,
   "id": "19a793d6",
   "metadata": {},
   "outputs": [],
   "source": [
    "df[\"BsmtQual\"] = df[\"BsmtQual\"].mode()[0]"
   ]
  },
  {
   "cell_type": "code",
   "execution_count": 464,
   "id": "aa559202",
   "metadata": {},
   "outputs": [],
   "source": [
    "df[\"BsmtCond\"] = df[\"BsmtCond\"].mode()[0]"
   ]
  },
  {
   "cell_type": "code",
   "execution_count": 465,
   "id": "39538b55",
   "metadata": {},
   "outputs": [],
   "source": [
    "df[\"BsmtExposure\"] = df[\"BsmtExposure\"].mode()[0]"
   ]
  },
  {
   "cell_type": "code",
   "execution_count": 466,
   "id": "1e173dde",
   "metadata": {},
   "outputs": [],
   "source": [
    "df[\"BsmtFinType1\"] = df[\"BsmtFinType1\"].mode()[0]"
   ]
  },
  {
   "cell_type": "code",
   "execution_count": 467,
   "id": "2c8bf923",
   "metadata": {},
   "outputs": [],
   "source": [
    "df[\"BsmtFinSF1\"] = df[\"BsmtFinSF1\"].median()"
   ]
  },
  {
   "cell_type": "code",
   "execution_count": 468,
   "id": "9bfa2a76",
   "metadata": {},
   "outputs": [],
   "source": [
    "df[\"BsmtFinType2\"] = df[\"BsmtFinType2\"].mode()[0]"
   ]
  },
  {
   "cell_type": "code",
   "execution_count": 469,
   "id": "174e2189",
   "metadata": {},
   "outputs": [],
   "source": [
    "df[\"BsmtFinSF2\"] = df[\"BsmtFinSF2\"].median()"
   ]
  },
  {
   "cell_type": "code",
   "execution_count": 470,
   "id": "01ab501f",
   "metadata": {},
   "outputs": [],
   "source": [
    "df[\"BsmtUnfSF\"] = df[\"BsmtUnfSF\"].median()"
   ]
  },
  {
   "cell_type": "code",
   "execution_count": 471,
   "id": "8616e586",
   "metadata": {},
   "outputs": [],
   "source": [
    "df[\"TotalBsmtSF\"] = df[\"TotalBsmtSF\"].median()"
   ]
  },
  {
   "cell_type": "code",
   "execution_count": 472,
   "id": "1f8836d9",
   "metadata": {},
   "outputs": [],
   "source": [
    "df[\"Electrical\"] = df[\"Electrical\"].mode()[0]"
   ]
  },
  {
   "cell_type": "code",
   "execution_count": 473,
   "id": "d16726e6",
   "metadata": {},
   "outputs": [],
   "source": [
    "df[\"BsmtFullBath\"] = df[\"BsmtFullBath\"].mode()[0]"
   ]
  },
  {
   "cell_type": "code",
   "execution_count": 474,
   "id": "4511ed64",
   "metadata": {},
   "outputs": [],
   "source": [
    "df[\"BsmtHalfBath\"] = df[\"BsmtHalfBath\"].mode()[0]"
   ]
  },
  {
   "cell_type": "code",
   "execution_count": 475,
   "id": "d1cc14eb",
   "metadata": {},
   "outputs": [],
   "source": [
    "df[\"KitchenQual\"] = df[\"KitchenQual\"].mode()[0]"
   ]
  },
  {
   "cell_type": "code",
   "execution_count": 476,
   "id": "c3a0421f",
   "metadata": {},
   "outputs": [],
   "source": [
    "df[\"Functional\"] = df[\"Functional\"].mode()[0]"
   ]
  },
  {
   "cell_type": "code",
   "execution_count": 477,
   "id": "f2786787",
   "metadata": {},
   "outputs": [],
   "source": [
    "df[\"GarageType\"] = df[\"GarageType\"].mode()[0]"
   ]
  },
  {
   "cell_type": "code",
   "execution_count": 478,
   "id": "ed4e3a4f",
   "metadata": {},
   "outputs": [],
   "source": [
    "df[\"GarageYrBlt\"] = df[\"GarageYrBlt\"].mode()[0]"
   ]
  },
  {
   "cell_type": "code",
   "execution_count": 479,
   "id": "97c8c4fd",
   "metadata": {},
   "outputs": [],
   "source": [
    "df[\"GarageFinish\"] = df[\"GarageFinish\"].mode()[0]"
   ]
  },
  {
   "cell_type": "code",
   "execution_count": 480,
   "id": "48e14446",
   "metadata": {},
   "outputs": [],
   "source": [
    "df[\"GarageCars\"] = df[\"GarageCars\"].mode()[0]"
   ]
  },
  {
   "cell_type": "code",
   "execution_count": 481,
   "id": "9a77a0bb",
   "metadata": {},
   "outputs": [],
   "source": [
    "df[\"GarageArea\"] = df[\"GarageArea\"].median()"
   ]
  },
  {
   "cell_type": "code",
   "execution_count": 482,
   "id": "8aac608d",
   "metadata": {},
   "outputs": [],
   "source": [
    "df[\"GarageQual\"] = df[\"GarageQual\"].mode()[0]"
   ]
  },
  {
   "cell_type": "code",
   "execution_count": 483,
   "id": "c7cd975a",
   "metadata": {},
   "outputs": [],
   "source": [
    "df[\"GarageCond\"] = df[\"GarageCond\"].mode()[0]"
   ]
  },
  {
   "cell_type": "code",
   "execution_count": 484,
   "id": "991a0c35",
   "metadata": {},
   "outputs": [],
   "source": [
    "df[\"SaleType\"] = df[\"SaleType\"].mode()[0]"
   ]
  },
  {
   "cell_type": "code",
   "execution_count": 485,
   "id": "dea524fc",
   "metadata": {},
   "outputs": [
    {
     "name": "stdout",
     "output_type": "stream",
     "text": [
      "count      1460.000000\n",
      "mean     180921.195890\n",
      "std       79442.502883\n",
      "min       34900.000000\n",
      "25%      129975.000000\n",
      "50%      163000.000000\n",
      "75%      214000.000000\n",
      "max      755000.000000\n",
      "Name: SalePrice, dtype: float64\n"
     ]
    },
    {
     "name": "stderr",
     "output_type": "stream",
     "text": [
      "C:\\Users\\guill\\AppData\\Local\\Temp\\ipykernel_2948\\4009015088.py:3: UserWarning: \n",
      "\n",
      "`distplot` is a deprecated function and will be removed in seaborn v0.14.0.\n",
      "\n",
      "Please adapt your code to use either `displot` (a figure-level function with\n",
      "similar flexibility) or `histplot` (an axes-level function for histograms).\n",
      "\n",
      "For a guide to updating your code to use the new functions, please see\n",
      "https://gist.github.com/mwaskom/de44147ed2974457ad6372750bbe5751\n",
      "\n",
      "  sns.distplot(df['SalePrice'], color='g', bins=100, hist_kws={'alpha': 0.4})\n"
     ]
    },
    {
     "data": {
      "text/plain": [
       "<Axes: xlabel='SalePrice', ylabel='Density'>"
      ]
     },
     "execution_count": 485,
     "metadata": {},
     "output_type": "execute_result"
    },
    {
     "data": {
      "image/png": "[encoded data removed]",
      "text/plain": [
       "<Figure size 900x800 with 1 Axes>"
      ]
     },
     "metadata": {},
     "output_type": "display_data"
    }
   ],
   "source": [
    "print(df['SalePrice'].describe())\n",
    "plt.figure(figsize=(9, 8))\n",
    "sns.distplot(df['SalePrice'], color='g', bins=100, hist_kws={'alpha': 0.4})"
   ]
  },
  {
   "cell_type": "markdown",
   "id": "2c9fe837",
   "metadata": {},
   "source": [
    "# Paso 5: Reducción de datos"
   ]
  },
  {
   "cell_type": "code",
   "execution_count": 486,
   "id": "5af8d23a",
   "metadata": {},
   "outputs": [
    {
     "data": {
      "text/html": [
       "<div>\n",
       "<style scoped>\n",
       "    .dataframe tbody tr th:only-of-type {\n",
       "        vertical-align: middle;\n",
       "    }\n",
       "\n",
       "    .dataframe tbody tr th {\n",
       "        vertical-align: top;\n",
       "    }\n",
       "\n",
       "    .dataframe thead th {\n",
       "        text-align: right;\n",
       "    }\n",
       "</style>\n",
       "<table border=\"1\" class=\"dataframe\">\n",
       "  <thead>\n",
       "    <tr style=\"text-align: right;\">\n",
       "      <th></th>\n",
       "      <th>Id</th>\n",
       "      <th>MSSubClass</th>\n",
       "      <th>MSZoning</th>\n",
       "      <th>LotFrontage</th>\n",
       "      <th>LotArea</th>\n",
       "      <th>Street</th>\n",
       "      <th>Alley</th>\n",
       "      <th>LotShape</th>\n",
       "      <th>LandContour</th>\n",
       "      <th>Utilities</th>\n",
       "      <th>...</th>\n",
       "      <th>PoolArea</th>\n",
       "      <th>PoolQC</th>\n",
       "      <th>Fence</th>\n",
       "      <th>MiscFeature</th>\n",
       "      <th>MiscVal</th>\n",
       "      <th>MoSold</th>\n",
       "      <th>YrSold</th>\n",
       "      <th>SaleType</th>\n",
       "      <th>SaleCondition</th>\n",
       "      <th>SalePrice</th>\n",
       "    </tr>\n",
       "  </thead>\n",
       "  <tbody>\n",
       "    <tr>\n",
       "      <th>0</th>\n",
       "      <td>1</td>\n",
       "      <td>60</td>\n",
       "      <td>RL</td>\n",
       "      <td>68.0</td>\n",
       "      <td>8450</td>\n",
       "      <td>Pave</td>\n",
       "      <td>NaN</td>\n",
       "      <td>Reg</td>\n",
       "      <td>Lvl</td>\n",
       "      <td>AllPub</td>\n",
       "      <td>...</td>\n",
       "      <td>0</td>\n",
       "      <td>NaN</td>\n",
       "      <td>NaN</td>\n",
       "      <td>NaN</td>\n",
       "      <td>0</td>\n",
       "      <td>2</td>\n",
       "      <td>2008</td>\n",
       "      <td>WD</td>\n",
       "      <td>Normal</td>\n",
       "      <td>208500.0</td>\n",
       "    </tr>\n",
       "    <tr>\n",
       "      <th>1</th>\n",
       "      <td>2</td>\n",
       "      <td>20</td>\n",
       "      <td>RL</td>\n",
       "      <td>68.0</td>\n",
       "      <td>9600</td>\n",
       "      <td>Pave</td>\n",
       "      <td>NaN</td>\n",
       "      <td>Reg</td>\n",
       "      <td>Lvl</td>\n",
       "      <td>AllPub</td>\n",
       "      <td>...</td>\n",
       "      <td>0</td>\n",
       "      <td>NaN</td>\n",
       "      <td>NaN</td>\n",
       "      <td>NaN</td>\n",
       "      <td>0</td>\n",
       "      <td>5</td>\n",
       "      <td>2007</td>\n",
       "      <td>WD</td>\n",
       "      <td>Normal</td>\n",
       "      <td>181500.0</td>\n",
       "    </tr>\n",
       "    <tr>\n",
       "      <th>2</th>\n",
       "      <td>3</td>\n",
       "      <td>60</td>\n",
       "      <td>RL</td>\n",
       "      <td>68.0</td>\n",
       "      <td>11250</td>\n",
       "      <td>Pave</td>\n",
       "      <td>NaN</td>\n",
       "      <td>IR1</td>\n",
       "      <td>Lvl</td>\n",
       "      <td>AllPub</td>\n",
       "      <td>...</td>\n",
       "      <td>0</td>\n",
       "      <td>NaN</td>\n",
       "      <td>NaN</td>\n",
       "      <td>NaN</td>\n",
       "      <td>0</td>\n",
       "      <td>9</td>\n",
       "      <td>2008</td>\n",
       "      <td>WD</td>\n",
       "      <td>Normal</td>\n",
       "      <td>223500.0</td>\n",
       "    </tr>\n",
       "    <tr>\n",
       "      <th>3</th>\n",
       "      <td>4</td>\n",
       "      <td>70</td>\n",
       "      <td>RL</td>\n",
       "      <td>68.0</td>\n",
       "      <td>9550</td>\n",
       "      <td>Pave</td>\n",
       "      <td>NaN</td>\n",
       "      <td>IR1</td>\n",
       "      <td>Lvl</td>\n",
       "      <td>AllPub</td>\n",
       "      <td>...</td>\n",
       "      <td>0</td>\n",
       "      <td>NaN</td>\n",
       "      <td>NaN</td>\n",
       "      <td>NaN</td>\n",
       "      <td>0</td>\n",
       "      <td>2</td>\n",
       "      <td>2006</td>\n",
       "      <td>WD</td>\n",
       "      <td>Abnorml</td>\n",
       "      <td>140000.0</td>\n",
       "    </tr>\n",
       "    <tr>\n",
       "      <th>4</th>\n",
       "      <td>5</td>\n",
       "      <td>60</td>\n",
       "      <td>RL</td>\n",
       "      <td>68.0</td>\n",
       "      <td>14260</td>\n",
       "      <td>Pave</td>\n",
       "      <td>NaN</td>\n",
       "      <td>IR1</td>\n",
       "      <td>Lvl</td>\n",
       "      <td>AllPub</td>\n",
       "      <td>...</td>\n",
       "      <td>0</td>\n",
       "      <td>NaN</td>\n",
       "      <td>NaN</td>\n",
       "      <td>NaN</td>\n",
       "      <td>0</td>\n",
       "      <td>12</td>\n",
       "      <td>2008</td>\n",
       "      <td>WD</td>\n",
       "      <td>Normal</td>\n",
       "      <td>250000.0</td>\n",
       "    </tr>\n",
       "  </tbody>\n",
       "</table>\n",
       "<p>5 rows × 81 columns</p>\n",
       "</div>"
      ],
      "text/plain": [
       "   Id  MSSubClass MSZoning  LotFrontage  LotArea Street Alley LotShape  \\\n",
       "0   1          60       RL         68.0     8450   Pave   NaN      Reg   \n",
       "1   2          20       RL         68.0     9600   Pave   NaN      Reg   \n",
       "2   3          60       RL         68.0    11250   Pave   NaN      IR1   \n",
       "3   4          70       RL         68.0     9550   Pave   NaN      IR1   \n",
       "4   5          60       RL         68.0    14260   Pave   NaN      IR1   \n",
       "\n",
       "  LandContour Utilities  ... PoolArea PoolQC Fence MiscFeature MiscVal MoSold  \\\n",
       "0         Lvl    AllPub  ...        0    NaN   NaN         NaN       0      2   \n",
       "1         Lvl    AllPub  ...        0    NaN   NaN         NaN       0      5   \n",
       "2         Lvl    AllPub  ...        0    NaN   NaN         NaN       0      9   \n",
       "3         Lvl    AllPub  ...        0    NaN   NaN         NaN       0      2   \n",
       "4         Lvl    AllPub  ...        0    NaN   NaN         NaN       0     12   \n",
       "\n",
       "  YrSold  SaleType  SaleCondition  SalePrice  \n",
       "0   2008        WD         Normal   208500.0  \n",
       "1   2007        WD         Normal   181500.0  \n",
       "2   2008        WD         Normal   223500.0  \n",
       "3   2006        WD        Abnorml   140000.0  \n",
       "4   2008        WD         Normal   250000.0  \n",
       "\n",
       "[5 rows x 81 columns]"
      ]
     },
     "execution_count": 486,
     "metadata": {},
     "output_type": "execute_result"
    }
   ],
   "source": [
    "df.head()"
   ]
  },
  {
   "cell_type": "code",
   "execution_count": 487,
   "id": "c6a180eb-a305-4a54-8675-d1f65478c80e",
   "metadata": {},
   "outputs": [],
   "source": [
    "data = df.drop(['Alley', 'PoolQC', 'Fence', 'MiscFeature'], axis=1)"
   ]
  },
  {
   "cell_type": "code",
   "execution_count": 488,
   "id": "16b6d8de",
   "metadata": {},
   "outputs": [],
   "source": [
    "data = data[['MSSubClass', 'LotArea', 'LotShape', 'HouseStyle', 'OverallQual', 'Foundation' , 'BedroomAbvGr', 'KitchenAbvGr', 'OverallCond', 'Neighborhood', 'SalePrice']]"
   ]
  },
  {
   "cell_type": "code",
   "execution_count": 489,
   "id": "997cd442-b129-4935-8b03-499e441b999b",
   "metadata": {},
   "outputs": [
    {
     "data": {
      "text/html": [
       "<div>\n",
       "<style scoped>\n",
       "    .dataframe tbody tr th:only-of-type {\n",
       "        vertical-align: middle;\n",
       "    }\n",
       "\n",
       "    .dataframe tbody tr th {\n",
       "        vertical-align: top;\n",
       "    }\n",
       "\n",
       "    .dataframe thead th {\n",
       "        text-align: right;\n",
       "    }\n",
       "</style>\n",
       "<table border=\"1\" class=\"dataframe\">\n",
       "  <thead>\n",
       "    <tr style=\"text-align: right;\">\n",
       "      <th></th>\n",
       "      <th>MSSubClass</th>\n",
       "      <th>LotArea</th>\n",
       "      <th>LotShape</th>\n",
       "      <th>HouseStyle</th>\n",
       "      <th>OverallQual</th>\n",
       "      <th>Foundation</th>\n",
       "      <th>BedroomAbvGr</th>\n",
       "      <th>KitchenAbvGr</th>\n",
       "      <th>OverallCond</th>\n",
       "      <th>Neighborhood</th>\n",
       "      <th>SalePrice</th>\n",
       "    </tr>\n",
       "  </thead>\n",
       "  <tbody>\n",
       "    <tr>\n",
       "      <th>0</th>\n",
       "      <td>60</td>\n",
       "      <td>8450</td>\n",
       "      <td>Reg</td>\n",
       "      <td>2Story</td>\n",
       "      <td>7</td>\n",
       "      <td>PConc</td>\n",
       "      <td>3</td>\n",
       "      <td>1</td>\n",
       "      <td>5</td>\n",
       "      <td>CollgCr</td>\n",
       "      <td>208500.0</td>\n",
       "    </tr>\n",
       "    <tr>\n",
       "      <th>1</th>\n",
       "      <td>20</td>\n",
       "      <td>9600</td>\n",
       "      <td>Reg</td>\n",
       "      <td>1Story</td>\n",
       "      <td>6</td>\n",
       "      <td>CBlock</td>\n",
       "      <td>3</td>\n",
       "      <td>1</td>\n",
       "      <td>8</td>\n",
       "      <td>Veenker</td>\n",
       "      <td>181500.0</td>\n",
       "    </tr>\n",
       "    <tr>\n",
       "      <th>2</th>\n",
       "      <td>60</td>\n",
       "      <td>11250</td>\n",
       "      <td>IR1</td>\n",
       "      <td>2Story</td>\n",
       "      <td>7</td>\n",
       "      <td>PConc</td>\n",
       "      <td>3</td>\n",
       "      <td>1</td>\n",
       "      <td>5</td>\n",
       "      <td>CollgCr</td>\n",
       "      <td>223500.0</td>\n",
       "    </tr>\n",
       "    <tr>\n",
       "      <th>3</th>\n",
       "      <td>70</td>\n",
       "      <td>9550</td>\n",
       "      <td>IR1</td>\n",
       "      <td>2Story</td>\n",
       "      <td>7</td>\n",
       "      <td>BrkTil</td>\n",
       "      <td>3</td>\n",
       "      <td>1</td>\n",
       "      <td>5</td>\n",
       "      <td>Crawfor</td>\n",
       "      <td>140000.0</td>\n",
       "    </tr>\n",
       "    <tr>\n",
       "      <th>4</th>\n",
       "      <td>60</td>\n",
       "      <td>14260</td>\n",
       "      <td>IR1</td>\n",
       "      <td>2Story</td>\n",
       "      <td>8</td>\n",
       "      <td>PConc</td>\n",
       "      <td>4</td>\n",
       "      <td>1</td>\n",
       "      <td>5</td>\n",
       "      <td>NoRidge</td>\n",
       "      <td>250000.0</td>\n",
       "    </tr>\n",
       "  </tbody>\n",
       "</table>\n",
       "</div>"
      ],
      "text/plain": [
       "   MSSubClass  LotArea LotShape HouseStyle  OverallQual Foundation  \\\n",
       "0          60     8450      Reg     2Story            7      PConc   \n",
       "1          20     9600      Reg     1Story            6     CBlock   \n",
       "2          60    11250      IR1     2Story            7      PConc   \n",
       "3          70     9550      IR1     2Story            7     BrkTil   \n",
       "4          60    14260      IR1     2Story            8      PConc   \n",
       "\n",
       "   BedroomAbvGr  KitchenAbvGr  OverallCond Neighborhood  SalePrice  \n",
       "0             3             1            5      CollgCr   208500.0  \n",
       "1             3             1            8      Veenker   181500.0  \n",
       "2             3             1            5      CollgCr   223500.0  \n",
       "3             3             1            5      Crawfor   140000.0  \n",
       "4             4             1            5      NoRidge   250000.0  "
      ]
     },
     "execution_count": 489,
     "metadata": {},
     "output_type": "execute_result"
    }
   ],
   "source": [
    "data.head()"
   ]
  },
  {
   "cell_type": "markdown",
   "id": "6b04112c",
   "metadata": {},
   "source": [
    "# Paso 5: Limpieza disputa de datos"
   ]
  },
  {
   "cell_type": "markdown",
   "id": "f22a7091",
   "metadata": {},
   "source": [
    "### 5.1 Cambiar el nombre de los valores"
   ]
  },
  {
   "cell_type": "code",
   "execution_count": 490,
   "id": "91202cda",
   "metadata": {},
   "outputs": [],
   "source": [
    "replacement_dict_ms_sub_class = {\n",
    "    20: 'PISO 1946 Y MÁS RECIENTES TODOS LOS ESTILOS', \n",
    "    30: '1 PISO 1945 Y MÁS ANTIGUOS', \n",
    "    40: '1 PISO CON ÁTICO TERMINADO TODAS LAS EDADES', \n",
    "    45: '1-1/2 PISO - SIN TERMINAR TODAS LAS EDADES',\n",
    "    50: '1-1/2 PISOS TERMINADA TODAS LAS EDADES',\n",
    "    60: '2 PISOS 1946 Y MÁS RECIENTES',\n",
    "    70: '2 PISOS 1945 Y MÁS ANTIGUOS',\n",
    "    75: '2-1/2 PISOS TODAS LAS EDADES',\n",
    "    80: 'DIVIDIDO O MULTINIVEL',\n",
    "    85: 'VESTÍBULO DIVIDIDO',\n",
    "    90: 'DÚPLEX - TODOS LOS ESTILOS Y EDADES',\n",
    "    120: 'PUD DE 1 PISO (Desarrollo de unidades planificadas) - 1946 y posteriores',\n",
    "    150: 'PUD DE 1-1/2 PISOS - TODAS LAS EDADES',\n",
    "    160: 'PUD DE 2 PISOS - 1946 Y POSTERIORES',\n",
    "    180: 'PUD - MULTINIVEL - INCLUYE NIVEL DIVIDIDO/VESTÍBULO',\n",
    "    190: '2 REFORMAS FAMILIARES - TODOS LOS ESTILOS Y EDADES'\n",
    "}"
   ]
  },
  {
   "cell_type": "code",
   "execution_count": 491,
   "id": "60185b23",
   "metadata": {},
   "outputs": [
    {
     "data": {
      "text/plain": [
       "0                      2 PISOS 1946 Y MÁS RECIENTES\n",
       "1       PISO 1946 Y MÁS RECIENTES TODOS LOS ESTILOS\n",
       "2                      2 PISOS 1946 Y MÁS RECIENTES\n",
       "3                       2 PISOS 1945 Y MÁS ANTIGUOS\n",
       "4                      2 PISOS 1946 Y MÁS RECIENTES\n",
       "                           ...                     \n",
       "2914            PUD DE 2 PISOS - 1946 Y POSTERIORES\n",
       "2915            PUD DE 2 PISOS - 1946 Y POSTERIORES\n",
       "2916    PISO 1946 Y MÁS RECIENTES TODOS LOS ESTILOS\n",
       "2917                             VESTÍBULO DIVIDIDO\n",
       "2918                   2 PISOS 1946 Y MÁS RECIENTES\n",
       "Name: MSSubClass, Length: 2919, dtype: object"
      ]
     },
     "execution_count": 491,
     "metadata": {},
     "output_type": "execute_result"
    }
   ],
   "source": [
    "data['MSSubClass'] = data['MSSubClass'].replace(replacement_dict_ms_sub_class)\n",
    "data['MSSubClass']"
   ]
  },
  {
   "cell_type": "code",
   "execution_count": 492,
   "id": "20bf2312",
   "metadata": {},
   "outputs": [],
   "source": [
    "replacement_dict_overall_qual = {\n",
    "    1: 'Muy pobre', \n",
    "    2: 'Pobre', \n",
    "    3: 'Regular', \n",
    "    4: 'Por debajo del promedio',\n",
    "    5: 'Promedio',\n",
    "    6: 'Por encima del promedio',\n",
    "    7: 'Bueno',\n",
    "    8: 'Muy bueno',\n",
    "    9: 'Excelente',\n",
    "    10: 'Excepcional'\n",
    "}"
   ]
  },
  {
   "cell_type": "code",
   "execution_count": 493,
   "id": "8f9fb4e6",
   "metadata": {},
   "outputs": [
    {
     "data": {
      "text/plain": [
       "Promedio                   825\n",
       "Por encima del promedio    731\n",
       "Bueno                      600\n",
       "Muy bueno                  342\n",
       "Por debajo del promedio    226\n",
       "Excelente                  107\n",
       "Regular                     40\n",
       "Excepcional                 31\n",
       "Pobre                       13\n",
       "Muy pobre                    4\n",
       "Name: OverallQual, dtype: int64"
      ]
     },
     "execution_count": 493,
     "metadata": {},
     "output_type": "execute_result"
    }
   ],
   "source": [
    "data['OverallQual'] = data['OverallQual'].replace(replacement_dict_overall_qual)\n",
    "data['OverallQual'].value_counts()"
   ]
  },
  {
   "cell_type": "code",
   "execution_count": 494,
   "id": "76ba0fcf",
   "metadata": {},
   "outputs": [],
   "source": [
    "replacement_dict_overall_cond = {\n",
    "    1: 'Muy pobre', \n",
    "    2: 'Pobre', \n",
    "    3: 'Regular', \n",
    "    4: 'Por debajo del promedio',\n",
    "    5: 'Promedio',\n",
    "    6: 'Por encima del promedio',\n",
    "    7: 'Bueno',\n",
    "    8: 'Muy bueno',\n",
    "    9: 'Excelente',\n",
    "    10: 'Excepcional'\n",
    "}"
   ]
  },
  {
   "cell_type": "code",
   "execution_count": 495,
   "id": "05bf3d09",
   "metadata": {},
   "outputs": [
    {
     "data": {
      "text/plain": [
       "Promedio                   1645\n",
       "Por encima del promedio     531\n",
       "Bueno                       390\n",
       "Muy bueno                   144\n",
       "Por debajo del promedio     101\n",
       "Regular                      50\n",
       "Excelente                    41\n",
       "Pobre                        10\n",
       "Muy pobre                     7\n",
       "Name: OverallCond, dtype: int64"
      ]
     },
     "execution_count": 495,
     "metadata": {},
     "output_type": "execute_result"
    }
   ],
   "source": [
    "data['OverallCond'] = data['OverallCond'].replace(replacement_dict_overall_cond)\n",
    "data['OverallCond'].value_counts()"
   ]
  },
  {
   "cell_type": "code",
   "execution_count": 496,
   "id": "971a6db1",
   "metadata": {},
   "outputs": [],
   "source": [
    "replacement_dict_lot_shape = {\n",
    "    'Reg': 'Forma regular', \n",
    "    'IR1': 'Forma ligeramente irregular', \n",
    "    'IR2': 'Forma moderadamente irregular', \n",
    "    'IR3': 'Forma irregular'\n",
    "}"
   ]
  },
  {
   "cell_type": "code",
   "execution_count": 497,
   "id": "3198120b",
   "metadata": {},
   "outputs": [
    {
     "data": {
      "text/plain": [
       "Forma regular                    1859\n",
       "Forma ligeramente irregular       968\n",
       "Forma moderadamente irregular      76\n",
       "Forma irregular                    16\n",
       "Name: LotShape, dtype: int64"
      ]
     },
     "execution_count": 497,
     "metadata": {},
     "output_type": "execute_result"
    }
   ],
   "source": [
    "data['LotShape'] = data['LotShape'].replace(replacement_dict_lot_shape)\n",
    "data['LotShape'].value_counts()"
   ]
  },
  {
   "cell_type": "code",
   "execution_count": 498,
   "id": "d1f60170",
   "metadata": {},
   "outputs": [],
   "source": [
    "replacement_dict_house_style = {\n",
    "    '1Story': 'Un piso', \n",
    "    '1.5Fin': 'Uno y medio pisos: segundo nivel terminado', \n",
    "    '1.5Unf': 'Uno y medio pisos: segundo nivel no terminado', \n",
    "    '2Story': 'Dos pisos', \n",
    "    '2.5Fin': 'Dos y medio pisos: segundo nivel terminado',\n",
    "    '2.5Unf': 'Dos y medio pisos: segundo nivel no terminado', \n",
    "    'SFoyer': 'Vestíbulo dividido', \n",
    "    'SLvl': 'Nivel dividido'\n",
    "}"
   ]
  },
  {
   "cell_type": "code",
   "execution_count": 499,
   "id": "2e1addf6",
   "metadata": {},
   "outputs": [
    {
     "data": {
      "text/plain": [
       "Un piso                                          1471\n",
       "Dos pisos                                         872\n",
       "Uno y medio pisos: segundo nivel terminado        314\n",
       "Nivel dividido                                    128\n",
       "Vestíbulo dividido                                 83\n",
       "Dos y medio pisos: segundo nivel no terminado      24\n",
       "Uno y medio pisos: segundo nivel no terminado      19\n",
       "Dos y medio pisos: segundo nivel terminado          8\n",
       "Name: HouseStyle, dtype: int64"
      ]
     },
     "execution_count": 499,
     "metadata": {},
     "output_type": "execute_result"
    }
   ],
   "source": [
    "data['HouseStyle'] = data['HouseStyle'].replace(replacement_dict_house_style)\n",
    "data['HouseStyle'].value_counts()"
   ]
  },
  {
   "cell_type": "code",
   "execution_count": 500,
   "id": "a09ada3c",
   "metadata": {},
   "outputs": [],
   "source": [
    "replacement_dict_foundation = {\n",
    "    'BrkTil': 'Ladrillo y azulejo', \n",
    "    'CBlock': 'Bloque de cemento', \n",
    "    'PConc': 'Concreto vertido', \n",
    "    'Slab': 'Losa', \n",
    "    'Stone': 'Piedra',\n",
    "    'Wood': 'Madera'\n",
    "}"
   ]
  },
  {
   "cell_type": "code",
   "execution_count": 501,
   "id": "a3ecf3a4",
   "metadata": {},
   "outputs": [
    {
     "data": {
      "text/plain": [
       "Concreto vertido      1308\n",
       "Bloque de cemento     1235\n",
       "Ladrillo y azulejo     311\n",
       "Losa                    49\n",
       "Piedra                  11\n",
       "Madera                   5\n",
       "Name: Foundation, dtype: int64"
      ]
     },
     "execution_count": 501,
     "metadata": {},
     "output_type": "execute_result"
    }
   ],
   "source": [
    "data['Foundation'] = data['Foundation'].replace(replacement_dict_foundation)\n",
    "data['Foundation'].value_counts()"
   ]
  },
  {
   "cell_type": "code",
   "execution_count": 502,
   "id": "dc3a81bb",
   "metadata": {},
   "outputs": [
    {
     "data": {
      "text/plain": [
       "MSSubClass       object\n",
       "LotArea           int64\n",
       "LotShape         object\n",
       "HouseStyle       object\n",
       "OverallQual      object\n",
       "Foundation       object\n",
       "BedroomAbvGr      int64\n",
       "KitchenAbvGr      int64\n",
       "OverallCond      object\n",
       "Neighborhood     object\n",
       "SalePrice       float64\n",
       "dtype: object"
      ]
     },
     "execution_count": 502,
     "metadata": {},
     "output_type": "execute_result"
    }
   ],
   "source": [
    "data.dtypes"
   ]
  },
  {
   "cell_type": "markdown",
   "id": "63a7e95b",
   "metadata": {},
   "source": [
    "### 5.2 Convertir a minusculas"
   ]
  },
  {
   "cell_type": "code",
   "execution_count": 503,
   "id": "aeb3ea4e",
   "metadata": {},
   "outputs": [],
   "source": [
    "data['MSSubClass'] = data['MSSubClass'].astype(str).str.lower().str.strip()"
   ]
  },
  {
   "cell_type": "code",
   "execution_count": 504,
   "id": "d9f1620c",
   "metadata": {},
   "outputs": [],
   "source": [
    "data['OverallQual'] = data['OverallQual'].astype(str).str.lower().str.strip()"
   ]
  },
  {
   "cell_type": "code",
   "execution_count": 505,
   "id": "727c0d41",
   "metadata": {},
   "outputs": [],
   "source": [
    "data['OverallCond'] = data['OverallCond'].astype(str).str.lower().str.strip()"
   ]
  },
  {
   "cell_type": "code",
   "execution_count": 506,
   "id": "301f1e0d",
   "metadata": {},
   "outputs": [],
   "source": [
    "data['LotShape'] = data['LotShape'].astype(str).str.lower().str.strip()"
   ]
  },
  {
   "cell_type": "code",
   "execution_count": 507,
   "id": "f3bb255d",
   "metadata": {},
   "outputs": [],
   "source": [
    "data['HouseStyle'] = data['HouseStyle'].astype(str).str.lower().str.strip()"
   ]
  },
  {
   "cell_type": "code",
   "execution_count": 508,
   "id": "34ffde74",
   "metadata": {},
   "outputs": [],
   "source": [
    "data['Foundation'] = data['Foundation'].astype(str).str.lower().str.strip()"
   ]
  },
  {
   "cell_type": "markdown",
   "id": "98fc5870",
   "metadata": {},
   "source": [
    "### 5.3 Convertir a categoria"
   ]
  },
  {
   "cell_type": "code",
   "execution_count": 509,
   "id": "45902a8d",
   "metadata": {},
   "outputs": [],
   "source": [
    "data['MSSubClass'] = data['MSSubClass'].astype('category')"
   ]
  },
  {
   "cell_type": "code",
   "execution_count": 510,
   "id": "32d30c66",
   "metadata": {},
   "outputs": [],
   "source": [
    "data['OverallQual'] = data['OverallQual'].astype('category')"
   ]
  },
  {
   "cell_type": "code",
   "execution_count": 511,
   "id": "864663aa",
   "metadata": {},
   "outputs": [],
   "source": [
    "data['OverallCond'] = data['OverallCond'].astype('category')"
   ]
  },
  {
   "cell_type": "code",
   "execution_count": 512,
   "id": "8ddc9fb8",
   "metadata": {},
   "outputs": [],
   "source": [
    "data['LotShape'] = data['LotShape'].astype('category')"
   ]
  },
  {
   "cell_type": "code",
   "execution_count": 513,
   "id": "f38b17c4",
   "metadata": {},
   "outputs": [],
   "source": [
    "data['HouseStyle'] = data['HouseStyle'].astype('category')"
   ]
  },
  {
   "cell_type": "code",
   "execution_count": 514,
   "id": "1fd500fc",
   "metadata": {},
   "outputs": [],
   "source": [
    "data['Foundation'] = data['Foundation'].astype('category')"
   ]
  },
  {
   "cell_type": "code",
   "execution_count": 515,
   "id": "341664eb",
   "metadata": {},
   "outputs": [],
   "source": [
    "data['Neighborhood'] = data['Neighborhood'].astype('category')"
   ]
  },
  {
   "cell_type": "markdown",
   "id": "2a4c8fec",
   "metadata": {},
   "source": [
    "### 5.4 Cambiar los nombres de columnas"
   ]
  },
  {
   "cell_type": "code",
   "execution_count": 517,
   "id": "f5aae6d5",
   "metadata": {},
   "outputs": [],
   "source": [
    "data.rename(columns={'MSSubClass': 'Tipo_Vivienda', \n",
    "                     'LotArea': 'Area_Lote',\n",
    "                     'LotShape': 'Forma_Lote',\n",
    "                     'HouseStyle': 'Estilo_Casa',\n",
    "                     'OverallQual': 'Material_Acabados',\n",
    "                     'Foundation': 'Tipo_Cimentación',\n",
    "                     'BedroomAbvGr': 'No. Habitaciones',\n",
    "                     'KitchenAbvGr': 'No. Cocinas',\n",
    "                     'OverallCond': 'Cond._Generales',\n",
    "                     'Neighborhood': 'Vecinadario',\n",
    "                     'SalePrice': 'Precio_Venta',\n",
    "                    }, inplace=True)"
   ]
  },
  {
   "cell_type": "code",
   "execution_count": 518,
   "id": "806afd5e",
   "metadata": {},
   "outputs": [
    {
     "data": {
      "text/html": [
       "<div>\n",
       "<style scoped>\n",
       "    .dataframe tbody tr th:only-of-type {\n",
       "        vertical-align: middle;\n",
       "    }\n",
       "\n",
       "    .dataframe tbody tr th {\n",
       "        vertical-align: top;\n",
       "    }\n",
       "\n",
       "    .dataframe thead th {\n",
       "        text-align: right;\n",
       "    }\n",
       "</style>\n",
       "<table border=\"1\" class=\"dataframe\">\n",
       "  <thead>\n",
       "    <tr style=\"text-align: right;\">\n",
       "      <th></th>\n",
       "      <th>Tipo_Vivienda</th>\n",
       "      <th>Area_Lote</th>\n",
       "      <th>Forma_Lote</th>\n",
       "      <th>Estilo_Casa</th>\n",
       "      <th>Material_Acabados</th>\n",
       "      <th>Tipo_Cimentación</th>\n",
       "      <th>No. Habitaciones</th>\n",
       "      <th>No. Cocinas</th>\n",
       "      <th>Cond._Generales</th>\n",
       "      <th>Vecinadario</th>\n",
       "      <th>Precio_Venta</th>\n",
       "    </tr>\n",
       "  </thead>\n",
       "  <tbody>\n",
       "    <tr>\n",
       "      <th>0</th>\n",
       "      <td>2 pisos 1946 y más recientes</td>\n",
       "      <td>8450</td>\n",
       "      <td>forma regular</td>\n",
       "      <td>dos pisos</td>\n",
       "      <td>bueno</td>\n",
       "      <td>concreto vertido</td>\n",
       "      <td>3</td>\n",
       "      <td>1</td>\n",
       "      <td>promedio</td>\n",
       "      <td>CollgCr</td>\n",
       "      <td>208500.0</td>\n",
       "    </tr>\n",
       "    <tr>\n",
       "      <th>1</th>\n",
       "      <td>piso 1946 y más recientes todos los estilos</td>\n",
       "      <td>9600</td>\n",
       "      <td>forma regular</td>\n",
       "      <td>un piso</td>\n",
       "      <td>por encima del promedio</td>\n",
       "      <td>bloque de cemento</td>\n",
       "      <td>3</td>\n",
       "      <td>1</td>\n",
       "      <td>muy bueno</td>\n",
       "      <td>Veenker</td>\n",
       "      <td>181500.0</td>\n",
       "    </tr>\n",
       "    <tr>\n",
       "      <th>2</th>\n",
       "      <td>2 pisos 1946 y más recientes</td>\n",
       "      <td>11250</td>\n",
       "      <td>forma ligeramente irregular</td>\n",
       "      <td>dos pisos</td>\n",
       "      <td>bueno</td>\n",
       "      <td>concreto vertido</td>\n",
       "      <td>3</td>\n",
       "      <td>1</td>\n",
       "      <td>promedio</td>\n",
       "      <td>CollgCr</td>\n",
       "      <td>223500.0</td>\n",
       "    </tr>\n",
       "    <tr>\n",
       "      <th>3</th>\n",
       "      <td>2 pisos 1945 y más antiguos</td>\n",
       "      <td>9550</td>\n",
       "      <td>forma ligeramente irregular</td>\n",
       "      <td>dos pisos</td>\n",
       "      <td>bueno</td>\n",
       "      <td>ladrillo y azulejo</td>\n",
       "      <td>3</td>\n",
       "      <td>1</td>\n",
       "      <td>promedio</td>\n",
       "      <td>Crawfor</td>\n",
       "      <td>140000.0</td>\n",
       "    </tr>\n",
       "    <tr>\n",
       "      <th>4</th>\n",
       "      <td>2 pisos 1946 y más recientes</td>\n",
       "      <td>14260</td>\n",
       "      <td>forma ligeramente irregular</td>\n",
       "      <td>dos pisos</td>\n",
       "      <td>muy bueno</td>\n",
       "      <td>concreto vertido</td>\n",
       "      <td>4</td>\n",
       "      <td>1</td>\n",
       "      <td>promedio</td>\n",
       "      <td>NoRidge</td>\n",
       "      <td>250000.0</td>\n",
       "    </tr>\n",
       "  </tbody>\n",
       "</table>\n",
       "</div>"
      ],
      "text/plain": [
       "                                 Tipo_Vivienda  Area_Lote  \\\n",
       "0                 2 pisos 1946 y más recientes       8450   \n",
       "1  piso 1946 y más recientes todos los estilos       9600   \n",
       "2                 2 pisos 1946 y más recientes      11250   \n",
       "3                  2 pisos 1945 y más antiguos       9550   \n",
       "4                 2 pisos 1946 y más recientes      14260   \n",
       "\n",
       "                    Forma_Lote Estilo_Casa        Material_Acabados  \\\n",
       "0                forma regular   dos pisos                    bueno   \n",
       "1                forma regular     un piso  por encima del promedio   \n",
       "2  forma ligeramente irregular   dos pisos                    bueno   \n",
       "3  forma ligeramente irregular   dos pisos                    bueno   \n",
       "4  forma ligeramente irregular   dos pisos                muy bueno   \n",
       "\n",
       "     Tipo_Cimentación  No. Habitaciones  No. Cocinas Cond._Generales  \\\n",
       "0    concreto vertido                 3            1        promedio   \n",
       "1   bloque de cemento                 3            1       muy bueno   \n",
       "2    concreto vertido                 3            1        promedio   \n",
       "3  ladrillo y azulejo                 3            1        promedio   \n",
       "4    concreto vertido                 4            1        promedio   \n",
       "\n",
       "  Vecinadario  Precio_Venta  \n",
       "0     CollgCr      208500.0  \n",
       "1     Veenker      181500.0  \n",
       "2     CollgCr      223500.0  \n",
       "3     Crawfor      140000.0  \n",
       "4     NoRidge      250000.0  "
      ]
     },
     "execution_count": 518,
     "metadata": {},
     "output_type": "execute_result"
    }
   ],
   "source": [
    "data.head()"
   ]
  },
  {
   "cell_type": "markdown",
   "id": "53df0fc1",
   "metadata": {},
   "source": [
    "# Step 9: EDA — Exploratory Data Analysis"
   ]
  },
  {
   "cell_type": "code",
   "execution_count": null,
   "id": "03ca5348-7b66-4914-9abd-7939ecab7c47",
   "metadata": {},
   "outputs": [],
   "source": []
  },
  {
   "cell_type": "code",
   "execution_count": null,
   "id": "9759516f-42a9-4a71-80fc-d66ca1028a99",
   "metadata": {},
   "outputs": [],
   "source": []
  },
  {
   "cell_type": "code",
   "execution_count": null,
   "id": "2e80e90e-838c-4c5b-98d7-896c61ad9d97",
   "metadata": {},
   "outputs": [],
   "source": []
  },
  {
   "cell_type": "markdown",
   "id": "ba5b3329",
   "metadata": {},
   "source": [
    "# Step 10: Statistics Summary"
   ]
  },
  {
   "cell_type": "code",
   "execution_count": null,
   "id": "ca14d6d4-0b4d-421c-b409-45b3c8700ab2",
   "metadata": {},
   "outputs": [],
   "source": []
  },
  {
   "cell_type": "code",
   "execution_count": null,
   "id": "a4e2ec9e-7689-4e07-893a-c65240c58f22",
   "metadata": {},
   "outputs": [],
   "source": []
  },
  {
   "cell_type": "code",
   "execution_count": null,
   "id": "01ef7855-ba86-48ea-bf96-0099ff953f91",
   "metadata": {},
   "outputs": [],
   "source": []
  },
  {
   "cell_type": "markdown",
   "id": "b4f8daed",
   "metadata": {},
   "source": [
    "# Step 11: EDA — Univariate Analysis"
   ]
  },
  {
   "cell_type": "code",
   "execution_count": null,
   "id": "46a2edcc-daa6-4201-aca5-d3ffacc3b705",
   "metadata": {},
   "outputs": [],
   "source": []
  },
  {
   "cell_type": "code",
   "execution_count": null,
   "id": "8d568a76-71c6-47db-a6f6-fcc03cc31f5c",
   "metadata": {},
   "outputs": [],
   "source": []
  },
  {
   "cell_type": "code",
   "execution_count": null,
   "id": "bf95ae35-a39b-4c47-9c23-7716d4ce3fe6",
   "metadata": {},
   "outputs": [],
   "source": []
  },
  {
   "cell_type": "markdown",
   "id": "06a337ee",
   "metadata": {},
   "source": [
    "# Step 12: Data Transformation"
   ]
  },
  {
   "cell_type": "code",
   "execution_count": null,
   "id": "626fd9b7-2d14-4da0-8c63-80c01987e4a5",
   "metadata": {},
   "outputs": [],
   "source": []
  },
  {
   "cell_type": "code",
   "execution_count": null,
   "id": "726238b9-b3b6-43e3-9788-9fb29f88642b",
   "metadata": {},
   "outputs": [],
   "source": []
  },
  {
   "cell_type": "code",
   "execution_count": null,
   "id": "7aa736c9-664e-4b31-bcac-4588232cac22",
   "metadata": {},
   "outputs": [],
   "source": []
  },
  {
   "cell_type": "markdown",
   "id": "fdf3bfc5",
   "metadata": {},
   "source": [
    "# Step 13: EDA — Bivariate Analysis"
   ]
  },
  {
   "cell_type": "code",
   "execution_count": null,
   "id": "b52c74ab-8ff6-4de1-95d5-d40f532fb939",
   "metadata": {},
   "outputs": [],
   "source": []
  },
  {
   "cell_type": "code",
   "execution_count": null,
   "id": "b7809cc0-9abc-4a30-bf8d-efaf7a6ba02f",
   "metadata": {},
   "outputs": [],
   "source": []
  },
  {
   "cell_type": "code",
   "execution_count": null,
   "id": "d381f28c-9c1f-4853-89af-cefa778151f2",
   "metadata": {},
   "outputs": [],
   "source": []
  },
  {
   "cell_type": "markdown",
   "id": "a363f8bf",
   "metadata": {},
   "source": [
    "# Step 14: EDA — Multivariate Analysis"
   ]
  },
  {
   "cell_type": "code",
   "execution_count": null,
   "id": "9d692cee-ecdc-43c1-a0ea-569c24e8c618",
   "metadata": {},
   "outputs": [],
   "source": []
  },
  {
   "cell_type": "code",
   "execution_count": null,
   "id": "99a5966c-9175-4181-960f-edbcc2023f21",
   "metadata": {},
   "outputs": [],
   "source": []
  },
  {
   "cell_type": "code",
   "execution_count": null,
   "id": "9b5449fb-f133-42e9-aec3-342ab6a314e6",
   "metadata": {},
   "outputs": [],
   "source": []
  },
  {
   "cell_type": "markdown",
   "id": "8667ab9a",
   "metadata": {},
   "source": [
    "# Step 15: Observing Data, Insights, and Storytelling"
   ]
  },
  {
   "cell_type": "code",
   "execution_count": null,
   "id": "916ad3bd-c7e5-4821-9853-8d4605fa6c49",
   "metadata": {},
   "outputs": [],
   "source": []
  },
  {
   "cell_type": "code",
   "execution_count": null,
   "id": "e1f0e49f-3182-49e0-b7b5-17dfd71da0d0",
   "metadata": {},
   "outputs": [],
   "source": []
  },
  {
   "cell_type": "code",
   "execution_count": null,
   "id": "c5f45625-d95e-4a5c-8146-258e6dbca67e",
   "metadata": {},
   "outputs": [],
   "source": []
  }
 ],
 "metadata": {
  "kernelspec": {
   "display_name": "Python 3 (ipykernel)",
   "language": "python",
   "name": "python3"
  },
  "language_info": {
   "codemirror_mode": {
    "name": "ipython",
    "version": 3
   },
   "file_extension": ".py",
   "mimetype": "text/x-python",
   "name": "python",
   "nbconvert_exporter": "python",
   "pygments_lexer": "ipython3",
   "version": "3.10.9"
  }
 },
 "nbformat": 4,
 "nbformat_minor": 5
}
